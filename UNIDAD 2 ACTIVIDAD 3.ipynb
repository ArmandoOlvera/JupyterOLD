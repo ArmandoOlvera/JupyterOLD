{
 "cells": [
  {
   "cell_type": "markdown",
   "metadata": {},
   "source": [
    "#### La pregunta a responder usando el dataset es, Cual es el motivo o razón de se generen padecimientos en el corazón?"
   ]
  },
  {
   "cell_type": "markdown",
   "metadata": {},
   "source": [
    "A continuacion se explican los campos del dataset y su significado (lamento no darle buen formato pero no supe como darle buen formato):"
   ]
  },
  {
   "cell_type": "markdown",
   "metadata": {},
   "source": [
    "<b>age:</b> Age in years<br>\n",
    "<b>sex:</b> Sex (1 = Male, 0 = Female)<br>\n",
    "<b>cp:</b> Chest Pain Type (0-4)<br>\n",
    "&emsp;     0, Typical angina<br>\n",
    "&emsp;             Chest pain related decrease blood supply to the heart<br>\n",
    "&emsp;        1, Atypical angina<br>\n",
    "&emsp;       Chest pain not related to heart<br>\n",
    "&emsp;         2, Non-anginal pain<br>\n",
    "&emsp;             Typically esophageal spasms (non heart related)<br>\n",
    "&emsp;        3, Asymptomatic<br>\n",
    "&emsp;             Chest pain not showing signs of disease<br>\n",
    "<b>trestbps:</b> Resting blood pressure upon admission (mm Hg)<br>\n",
    "&emsp;       Anything above 130-140 is typically cause for concern<br>\n",
    "<b>chol:</b> Serum cholestrol level (mg/dL)<br>\n",
    "&emsp;   serum = LDL + HDL + .2 * triglycerides<br>\n",
    "&emsp;        Above 200 is cause for concern<br>\n",
    "<b>fbs:</b> Fasting blood sugar > 120 mg/dL (1 = True, 0 = False)<br>\n",
    "&emsp;   fbs > 126 mg/dL signals diabetes<br>\n",
    "<b>restecg:</b> Resting electrocardiographic results (0 - 2)<br>\n",
    "&emsp;0, Nothing to note<br>\n",
    "&emsp; 1, ST-T Wave abnormality<br>\n",
    "&emsp; Can range from mild symptoms to severe problems<br>\n",
    "            Signals non-normal heart beat<br>\n",
    "&emsp;      2, Possible or definite Left ventricular hypertrophy<br>\n",
    "&emsp;     Enlarged heart's main pumping chamber<br>\n",
    "<b>thalach:</b> Maximum heart rate achieved<br>\n",
    "&emsp; Rate above 100 is cause for concern<br>\n",
    "<b>exang:</b> exercise induced angina (1 = yes; 0 = no)<br>\n",
    "<b>oldpeak:</b> ST depression induced by exercise relative to rest<br>\n",
    "&emsp; Looks at stress of heart during excercise<br>\n",
    "&emsp; Unhealthy heart will stress more<br>\n",
    "<b>slope:</b> the slope of the peak exercise ST segment<br>\n",
    "&emsp;0, upsloping<br>\n",
    "&emsp;Better heart rate with excercise (uncommon)<br>\n",
    "&emsp; 1, flatsloping<br>\n",
    "&emsp; Minimal change (typical healthy heart)<br>\n",
    "&emsp;2, downsloping<br>\n",
    "&emsp; Signs of unhealthy heart<br>\n",
    "<b>ca:</b> number of major vessels (0-3) colored by flourosopy<br>\n",
    "&emsp; Colored vessel means the doctor can see the blood passing through<br>\n",
    "&emsp;Move blood movement the better (no clots)<br>\n",
    "<b>thal:</b> Thalium stress test result<br>\n",
    "&emsp;Sees how blood moves through your heart while excercising<br>\n",
    "&emsp;1, Normal<br>\n",
    "&emsp; 6, fixed defect<br>\n",
    "&emsp;Used to be defect but now okay<br>\n",
    "&emsp;7, reversable defect<br>\n",
    "&emsp;  Not proper blood movement when excercising<br>\n",
    "<b>target:</b> Heart Disease (1 = True, 0 = False)<br>\n",
    "\n"
   ]
  },
  {
   "cell_type": "markdown",
   "metadata": {},
   "source": [
    "Obtenemos los datos del dataset y mostramos algunos de los datos"
   ]
  },
  {
   "cell_type": "code",
   "execution_count": 1,
   "metadata": {},
   "outputs": [],
   "source": [
    "import pandas as pd\n",
    "import numpy as np # linear algebra\n",
    "import matplotlib.pyplot as plt\n",
    "##import seaborn as sns\n",
    "##sns.set_style('whitegrid')\n",
    "%matplotlib inline\n",
    "data= pd.read_csv('heart.csv')"
   ]
  },
  {
   "cell_type": "code",
   "execution_count": 2,
   "metadata": {},
   "outputs": [
    {
     "data": {
      "text/html": [
       "<div>\n",
       "<style scoped>\n",
       "    .dataframe tbody tr th:only-of-type {\n",
       "        vertical-align: middle;\n",
       "    }\n",
       "\n",
       "    .dataframe tbody tr th {\n",
       "        vertical-align: top;\n",
       "    }\n",
       "\n",
       "    .dataframe thead th {\n",
       "        text-align: right;\n",
       "    }\n",
       "</style>\n",
       "<table border=\"1\" class=\"dataframe\">\n",
       "  <thead>\n",
       "    <tr style=\"text-align: right;\">\n",
       "      <th></th>\n",
       "      <th>age</th>\n",
       "      <th>sex</th>\n",
       "      <th>cp</th>\n",
       "      <th>trestbps</th>\n",
       "      <th>chol</th>\n",
       "      <th>fbs</th>\n",
       "      <th>restecg</th>\n",
       "      <th>thalach</th>\n",
       "      <th>exang</th>\n",
       "      <th>oldpeak</th>\n",
       "      <th>slope</th>\n",
       "      <th>ca</th>\n",
       "      <th>thal</th>\n",
       "      <th>target</th>\n",
       "    </tr>\n",
       "  </thead>\n",
       "  <tbody>\n",
       "    <tr>\n",
       "      <th>0</th>\n",
       "      <td>63</td>\n",
       "      <td>1</td>\n",
       "      <td>3</td>\n",
       "      <td>145</td>\n",
       "      <td>233</td>\n",
       "      <td>1</td>\n",
       "      <td>0</td>\n",
       "      <td>150</td>\n",
       "      <td>0</td>\n",
       "      <td>2.3</td>\n",
       "      <td>0</td>\n",
       "      <td>0</td>\n",
       "      <td>1</td>\n",
       "      <td>1</td>\n",
       "    </tr>\n",
       "    <tr>\n",
       "      <th>1</th>\n",
       "      <td>37</td>\n",
       "      <td>1</td>\n",
       "      <td>2</td>\n",
       "      <td>130</td>\n",
       "      <td>250</td>\n",
       "      <td>0</td>\n",
       "      <td>1</td>\n",
       "      <td>187</td>\n",
       "      <td>0</td>\n",
       "      <td>3.5</td>\n",
       "      <td>0</td>\n",
       "      <td>0</td>\n",
       "      <td>2</td>\n",
       "      <td>1</td>\n",
       "    </tr>\n",
       "    <tr>\n",
       "      <th>2</th>\n",
       "      <td>41</td>\n",
       "      <td>0</td>\n",
       "      <td>1</td>\n",
       "      <td>130</td>\n",
       "      <td>204</td>\n",
       "      <td>0</td>\n",
       "      <td>0</td>\n",
       "      <td>172</td>\n",
       "      <td>0</td>\n",
       "      <td>1.4</td>\n",
       "      <td>2</td>\n",
       "      <td>0</td>\n",
       "      <td>2</td>\n",
       "      <td>1</td>\n",
       "    </tr>\n",
       "    <tr>\n",
       "      <th>3</th>\n",
       "      <td>56</td>\n",
       "      <td>1</td>\n",
       "      <td>1</td>\n",
       "      <td>120</td>\n",
       "      <td>236</td>\n",
       "      <td>0</td>\n",
       "      <td>1</td>\n",
       "      <td>178</td>\n",
       "      <td>0</td>\n",
       "      <td>0.8</td>\n",
       "      <td>2</td>\n",
       "      <td>0</td>\n",
       "      <td>2</td>\n",
       "      <td>1</td>\n",
       "    </tr>\n",
       "    <tr>\n",
       "      <th>4</th>\n",
       "      <td>57</td>\n",
       "      <td>0</td>\n",
       "      <td>0</td>\n",
       "      <td>120</td>\n",
       "      <td>354</td>\n",
       "      <td>0</td>\n",
       "      <td>1</td>\n",
       "      <td>163</td>\n",
       "      <td>1</td>\n",
       "      <td>0.6</td>\n",
       "      <td>2</td>\n",
       "      <td>0</td>\n",
       "      <td>2</td>\n",
       "      <td>1</td>\n",
       "    </tr>\n",
       "  </tbody>\n",
       "</table>\n",
       "</div>"
      ],
      "text/plain": [
       "   age  sex  cp  trestbps  chol  fbs  restecg  thalach  exang  oldpeak  slope  \\\n",
       "0   63    1   3       145   233    1        0      150      0      2.3      0   \n",
       "1   37    1   2       130   250    0        1      187      0      3.5      0   \n",
       "2   41    0   1       130   204    0        0      172      0      1.4      2   \n",
       "3   56    1   1       120   236    0        1      178      0      0.8      2   \n",
       "4   57    0   0       120   354    0        1      163      1      0.6      2   \n",
       "\n",
       "   ca  thal  target  \n",
       "0   0     1       1  \n",
       "1   0     2       1  \n",
       "2   0     2       1  \n",
       "3   0     2       1  \n",
       "4   0     2       1  "
      ]
     },
     "execution_count": 2,
     "metadata": {},
     "output_type": "execute_result"
    }
   ],
   "source": [
    "data.head()"
   ]
  },
  {
   "cell_type": "code",
   "execution_count": 3,
   "metadata": {},
   "outputs": [
    {
     "data": {
      "image/png": "[encoded data removed]",
      "text/plain": [
       "<Figure size 432x288 with 1 Axes>"
      ]
     },
     "metadata": {
      "needs_background": "light"
     },
     "output_type": "display_data"
    }
   ],
   "source": [
    "data.plot()\n",
    "plt.show()"
   ]
  },
  {
   "cell_type": "markdown",
   "metadata": {},
   "source": [
    " "
   ]
  },
  {
   "cell_type": "code",
   "execution_count": 4,
   "metadata": {},
   "outputs": [
    {
     "name": "stdout",
     "output_type": "stream",
     "text": [
      "<class 'pandas.core.frame.DataFrame'>\n",
      "RangeIndex: 303 entries, 0 to 302\n",
      "Data columns (total 14 columns):\n",
      "age         303 non-null int64\n",
      "sex         303 non-null int64\n",
      "cp          303 non-null int64\n",
      "trestbps    303 non-null int64\n",
      "chol        303 non-null int64\n",
      "fbs         303 non-null int64\n",
      "restecg     303 non-null int64\n",
      "thalach     303 non-null int64\n",
      "exang       303 non-null int64\n",
      "oldpeak     303 non-null float64\n",
      "slope       303 non-null int64\n",
      "ca          303 non-null int64\n",
      "thal        303 non-null int64\n",
      "target      303 non-null int64\n",
      "dtypes: float64(1), int64(13)\n",
      "memory usage: 33.2 KB\n"
     ]
    }
   ],
   "source": [
    "data.info()"
   ]
  },
  {
   "cell_type": "code",
   "execution_count": 5,
   "metadata": {},
   "outputs": [
    {
     "data": {
      "image/png": "[encoded data removed]",
      "text/plain": [
       "<Figure size 1440x1080 with 16 Axes>"
      ]
     },
     "metadata": {
      "needs_background": "light"
     },
     "output_type": "display_data"
    }
   ],
   "source": [
    "\n",
    "\n",
    "%matplotlib inline\n",
    "import matplotlib.pyplot as plt\n",
    "\n",
    "# show the histogram of instances.\n",
    "data.hist(bins=50, figsize=(20, 15))\n",
    "plt.show()\n",
    "\n"
   ]
  },
  {
   "cell_type": "code",
   "execution_count": 6,
   "metadata": {},
   "outputs": [],
   "source": [
    "import numpy as np\n",
    "\n",
    "# function for spliting the data\n",
    "def split_train_test(data, test_ratio):\n",
    "    shuffled_indices = np.random.permutation(len(data))\n",
    "    test_set_size = int(len(data) * test_ratio)\n",
    "    test_indices = shuffled_indices[:test_set_size]\n",
    "    train_indices = shuffled_indices[test_set_size:]\n",
    "    return data.iloc[train_indices], data.iloc[test_indices]"
   ]
  },
  {
   "cell_type": "code",
   "execution_count": 7,
   "metadata": {},
   "outputs": [
    {
     "name": "stdout",
     "output_type": "stream",
     "text": [
      "243 train + 60 test\n"
     ]
    }
   ],
   "source": [
    "train_set, test_set = split_train_test(data, 0.2)\n",
    "print(len(train_set), \"train +\", len(test_set), \"test\")"
   ]
  },
  {
   "cell_type": "code",
   "execution_count": 8,
   "metadata": {},
   "outputs": [],
   "source": [
    "from zlib import crc32\n",
    "\n",
    "\n",
    "def test_set_check(identifier, test_ratio):\n",
    "    return crc32(np.int64(identifier)) & 0xffffffff < test_ratio * 2**32\n",
    "\n",
    "def split_train_test_by_id(data, test_ratio, id_column):\n",
    "    ids = data[id_column]\n",
    "    in_test_set = ids.apply(lambda id_: test_set_check(id_, test_ratio))\n",
    "    return data.loc[~in_test_set], data.loc[in_test_set]"
   ]
  },
  {
   "cell_type": "code",
   "execution_count": 9,
   "metadata": {},
   "outputs": [],
   "source": [
    "data_with_id = data.reset_index()   # adds an 'index' column\n",
    "train_set, test_set = split_train_test_by_id(data_with_id, 0.2, \"index\")"
   ]
  },
  {
   "cell_type": "code",
   "execution_count": 10,
   "metadata": {},
   "outputs": [
    {
     "data": {
      "text/html": [
       "<div>\n",
       "<style scoped>\n",
       "    .dataframe tbody tr th:only-of-type {\n",
       "        vertical-align: middle;\n",
       "    }\n",
       "\n",
       "    .dataframe tbody tr th {\n",
       "        vertical-align: top;\n",
       "    }\n",
       "\n",
       "    .dataframe thead th {\n",
       "        text-align: right;\n",
       "    }\n",
       "</style>\n",
       "<table border=\"1\" class=\"dataframe\">\n",
       "  <thead>\n",
       "    <tr style=\"text-align: right;\">\n",
       "      <th></th>\n",
       "      <th>age</th>\n",
       "      <th>sex</th>\n",
       "      <th>cp</th>\n",
       "      <th>trestbps</th>\n",
       "      <th>chol</th>\n",
       "      <th>fbs</th>\n",
       "      <th>restecg</th>\n",
       "      <th>thalach</th>\n",
       "      <th>exang</th>\n",
       "      <th>oldpeak</th>\n",
       "      <th>slope</th>\n",
       "      <th>ca</th>\n",
       "      <th>thal</th>\n",
       "      <th>target</th>\n",
       "    </tr>\n",
       "  </thead>\n",
       "  <tbody>\n",
       "    <tr>\n",
       "      <th>179</th>\n",
       "      <td>57</td>\n",
       "      <td>1</td>\n",
       "      <td>0</td>\n",
       "      <td>150</td>\n",
       "      <td>276</td>\n",
       "      <td>0</td>\n",
       "      <td>0</td>\n",
       "      <td>112</td>\n",
       "      <td>1</td>\n",
       "      <td>0.6</td>\n",
       "      <td>1</td>\n",
       "      <td>1</td>\n",
       "      <td>1</td>\n",
       "      <td>0</td>\n",
       "    </tr>\n",
       "    <tr>\n",
       "      <th>228</th>\n",
       "      <td>59</td>\n",
       "      <td>1</td>\n",
       "      <td>3</td>\n",
       "      <td>170</td>\n",
       "      <td>288</td>\n",
       "      <td>0</td>\n",
       "      <td>0</td>\n",
       "      <td>159</td>\n",
       "      <td>0</td>\n",
       "      <td>0.2</td>\n",
       "      <td>1</td>\n",
       "      <td>0</td>\n",
       "      <td>3</td>\n",
       "      <td>0</td>\n",
       "    </tr>\n",
       "    <tr>\n",
       "      <th>111</th>\n",
       "      <td>57</td>\n",
       "      <td>1</td>\n",
       "      <td>2</td>\n",
       "      <td>150</td>\n",
       "      <td>126</td>\n",
       "      <td>1</td>\n",
       "      <td>1</td>\n",
       "      <td>173</td>\n",
       "      <td>0</td>\n",
       "      <td>0.2</td>\n",
       "      <td>2</td>\n",
       "      <td>1</td>\n",
       "      <td>3</td>\n",
       "      <td>1</td>\n",
       "    </tr>\n",
       "    <tr>\n",
       "      <th>246</th>\n",
       "      <td>56</td>\n",
       "      <td>0</td>\n",
       "      <td>0</td>\n",
       "      <td>134</td>\n",
       "      <td>409</td>\n",
       "      <td>0</td>\n",
       "      <td>0</td>\n",
       "      <td>150</td>\n",
       "      <td>1</td>\n",
       "      <td>1.9</td>\n",
       "      <td>1</td>\n",
       "      <td>2</td>\n",
       "      <td>3</td>\n",
       "      <td>0</td>\n",
       "    </tr>\n",
       "    <tr>\n",
       "      <th>60</th>\n",
       "      <td>71</td>\n",
       "      <td>0</td>\n",
       "      <td>2</td>\n",
       "      <td>110</td>\n",
       "      <td>265</td>\n",
       "      <td>1</td>\n",
       "      <td>0</td>\n",
       "      <td>130</td>\n",
       "      <td>0</td>\n",
       "      <td>0.0</td>\n",
       "      <td>2</td>\n",
       "      <td>1</td>\n",
       "      <td>2</td>\n",
       "      <td>1</td>\n",
       "    </tr>\n",
       "  </tbody>\n",
       "</table>\n",
       "</div>"
      ],
      "text/plain": [
       "     age  sex  cp  trestbps  chol  fbs  restecg  thalach  exang  oldpeak  \\\n",
       "179   57    1   0       150   276    0        0      112      1      0.6   \n",
       "228   59    1   3       170   288    0        0      159      0      0.2   \n",
       "111   57    1   2       150   126    1        1      173      0      0.2   \n",
       "246   56    0   0       134   409    0        0      150      1      1.9   \n",
       "60    71    0   2       110   265    1        0      130      0      0.0   \n",
       "\n",
       "     slope  ca  thal  target  \n",
       "179      1   1     1       0  \n",
       "228      1   0     3       0  \n",
       "111      2   1     3       1  \n",
       "246      1   2     3       0  \n",
       "60       2   1     2       1  "
      ]
     },
     "execution_count": 10,
     "metadata": {},
     "output_type": "execute_result"
    }
   ],
   "source": [
    "from sklearn.model_selection import train_test_split\n",
    "\n",
    "train_set, test_set = train_test_split(data, test_size=0.2, random_state=42)\n",
    "test_set.head()"
   ]
  },
  {
   "cell_type": "code",
   "execution_count": 11,
   "metadata": {},
   "outputs": [
    {
     "data": {
      "text/plain": [
       "<matplotlib.axes._subplots.AxesSubplot at 0x7fb2c55ce400>"
      ]
     },
     "execution_count": 11,
     "metadata": {},
     "output_type": "execute_result"
    },
    {
     "data": {
      "image/png": "[encoded data removed]",
      "text/plain": [
       "<Figure size 432x288 with 1 Axes>"
      ]
     },
     "metadata": {
      "needs_background": "light"
     },
     "output_type": "display_data"
    }
   ],
   "source": [
    "data[\"ca\"].hist()"
   ]
  },
  {
   "cell_type": "code",
   "execution_count": 12,
   "metadata": {},
   "outputs": [],
   "source": [
    " # Divide by 1.5 to limit the number of income categories\n",
    "data[\"ca2\"] = np.ceil(data[\"ca\"] / 1.5)\n",
    "# Label those above 5 as 5\n",
    "data[\"ca2\"].where(data[\"ca2\"] < 5, 5, inplace=True)\n",
    "\n"
   ]
  },
  {
   "cell_type": "code",
   "execution_count": 13,
   "metadata": {},
   "outputs": [
    {
     "data": {
      "text/plain": [
       "0.0    175\n",
       "1.0     65\n",
       "2.0     58\n",
       "3.0      5\n",
       "Name: ca2, dtype: int64"
      ]
     },
     "execution_count": 13,
     "metadata": {},
     "output_type": "execute_result"
    }
   ],
   "source": [
    "data[\"ca2\"].value_counts()"
   ]
  },
  {
   "cell_type": "code",
   "execution_count": 14,
   "metadata": {
    "scrolled": true
   },
   "outputs": [
    {
     "data": {
      "text/plain": [
       "<matplotlib.axes._subplots.AxesSubplot at 0x7fb2c4845b00>"
      ]
     },
     "execution_count": 14,
     "metadata": {},
     "output_type": "execute_result"
    },
    {
     "data": {
      "image/png": "[encoded data removed]",
      "text/plain": [
       "<Figure size 432x288 with 1 Axes>"
      ]
     },
     "metadata": {
      "needs_background": "light"
     },
     "output_type": "display_data"
    }
   ],
   "source": [
    "data[\"ca2\"].hist()"
   ]
  },
  {
   "cell_type": "code",
   "execution_count": 15,
   "metadata": {},
   "outputs": [],
   "source": [
    "##### now use this code to do a stratified sampling\n",
    "from sklearn.model_selection import StratifiedShuffleSplit\n",
    "\n",
    "split = StratifiedShuffleSplit(n_splits=1, test_size=0.2, random_state=42)\n",
    "for train_index, test_index, in split.split(data, data[\"ca2\"]):\n",
    "    strat_train_set = data.loc[train_index]\n",
    "    strat_test_set = data.loc[test_index]\n",
    "\n"
   ]
  },
  {
   "cell_type": "code",
   "execution_count": 16,
   "metadata": {},
   "outputs": [
    {
     "data": {
      "text/plain": [
       "0.0    0.573770\n",
       "1.0    0.213115\n",
       "2.0    0.196721\n",
       "3.0    0.016393\n",
       "Name: ca2, dtype: float64"
      ]
     },
     "execution_count": 16,
     "metadata": {},
     "output_type": "execute_result"
    }
   ],
   "source": [
    "strat_test_set[\"ca2\"].value_counts() / len(strat_test_set)\n",
    "\n"
   ]
  },
  {
   "cell_type": "code",
   "execution_count": 17,
   "metadata": {},
   "outputs": [
    {
     "data": {
      "text/plain": [
       "0.0    0.577558\n",
       "1.0    0.214521\n",
       "2.0    0.191419\n",
       "3.0    0.016502\n",
       "Name: ca2, dtype: float64"
      ]
     },
     "execution_count": 17,
     "metadata": {},
     "output_type": "execute_result"
    }
   ],
   "source": [
    "data[\"ca2\"].value_counts() / len(data)"
   ]
  },
  {
   "cell_type": "code",
   "execution_count": 18,
   "metadata": {},
   "outputs": [],
   "source": [
    "import pandas as pd\n",
    "\n",
    "# compare the income category proportions in the overall dataset.\n",
    "\n",
    "def income_cat_proportions(data):\n",
    "    return data[\"ca2\"].value_counts() / len(data)\n",
    "\n",
    "train_set, test_set = train_test_split(data, test_size=0.2, random_state=42)\n",
    "\n",
    "compare_props = pd.DataFrame({\n",
    "    \"Overall\": income_cat_proportions(data),\n",
    "    \"Stratified\": income_cat_proportions(strat_test_set),\n",
    "    \"Random\": income_cat_proportions(test_set),\n",
    "}).sort_index()\n",
    "compare_props[\"Rand. %error\"] = 100 * compare_props[\"Random\"] / compare_props[\"Overall\"] - 100\n",
    "compare_props[\"Strat. %error\"] = 100 * compare_props[\"Stratified\"] / compare_props[\"Overall\"] - 100"
   ]
  },
  {
   "cell_type": "code",
   "execution_count": 19,
   "metadata": {},
   "outputs": [
    {
     "data": {
      "text/html": [
       "<div>\n",
       "<style scoped>\n",
       "    .dataframe tbody tr th:only-of-type {\n",
       "        vertical-align: middle;\n",
       "    }\n",
       "\n",
       "    .dataframe tbody tr th {\n",
       "        vertical-align: top;\n",
       "    }\n",
       "\n",
       "    .dataframe thead th {\n",
       "        text-align: right;\n",
       "    }\n",
       "</style>\n",
       "<table border=\"1\" class=\"dataframe\">\n",
       "  <thead>\n",
       "    <tr style=\"text-align: right;\">\n",
       "      <th></th>\n",
       "      <th>Overall</th>\n",
       "      <th>Stratified</th>\n",
       "      <th>Random</th>\n",
       "      <th>Rand. %error</th>\n",
       "      <th>Strat. %error</th>\n",
       "    </tr>\n",
       "  </thead>\n",
       "  <tbody>\n",
       "    <tr>\n",
       "      <th>0.0</th>\n",
       "      <td>0.577558</td>\n",
       "      <td>0.573770</td>\n",
       "      <td>0.508197</td>\n",
       "      <td>-12.009368</td>\n",
       "      <td>-0.655738</td>\n",
       "    </tr>\n",
       "    <tr>\n",
       "      <th>1.0</th>\n",
       "      <td>0.214521</td>\n",
       "      <td>0.213115</td>\n",
       "      <td>0.196721</td>\n",
       "      <td>-8.297604</td>\n",
       "      <td>-0.655738</td>\n",
       "    </tr>\n",
       "    <tr>\n",
       "      <th>2.0</th>\n",
       "      <td>0.191419</td>\n",
       "      <td>0.196721</td>\n",
       "      <td>0.262295</td>\n",
       "      <td>37.026569</td>\n",
       "      <td>2.769927</td>\n",
       "    </tr>\n",
       "    <tr>\n",
       "      <th>3.0</th>\n",
       "      <td>0.016502</td>\n",
       "      <td>0.016393</td>\n",
       "      <td>0.032787</td>\n",
       "      <td>98.688525</td>\n",
       "      <td>-0.655738</td>\n",
       "    </tr>\n",
       "  </tbody>\n",
       "</table>\n",
       "</div>"
      ],
      "text/plain": [
       "      Overall  Stratified    Random  Rand. %error  Strat. %error\n",
       "0.0  0.577558    0.573770  0.508197    -12.009368      -0.655738\n",
       "1.0  0.214521    0.213115  0.196721     -8.297604      -0.655738\n",
       "2.0  0.191419    0.196721  0.262295     37.026569       2.769927\n",
       "3.0  0.016502    0.016393  0.032787     98.688525      -0.655738"
      ]
     },
     "execution_count": 19,
     "metadata": {},
     "output_type": "execute_result"
    }
   ],
   "source": [
    "compare_props"
   ]
  },
  {
   "cell_type": "code",
   "execution_count": 20,
   "metadata": {},
   "outputs": [],
   "source": [
    "# remove the income_cat attribute. The data is back to its original state.\n",
    "for set_ in (strat_train_set, strat_test_set):\n",
    "    set_.drop(\"ca2\", axis=1, inplace=True)"
   ]
  },
  {
   "cell_type": "code",
   "execution_count": 21,
   "metadata": {},
   "outputs": [],
   "source": [
    "data = strat_train_set.copy()  # make a copy of the data."
   ]
  },
  {
   "cell_type": "code",
   "execution_count": 22,
   "metadata": {},
   "outputs": [
    {
     "data": {
      "image/png": "[encoded data removed]",
      "text/plain": [
       "<Figure size 432x288 with 1 Axes>"
      ]
     },
     "metadata": {
      "needs_background": "light"
     },
     "output_type": "display_data"
    }
   ],
   "source": [
    "data.plot(kind=\"scatter\", x=\"ca\", y=\"oldpeak\")\n",
    "plt.show()"
   ]
  },
  {
   "cell_type": "code",
   "execution_count": 23,
   "metadata": {},
   "outputs": [],
   "source": [
    "corr_matrix = data.corr()"
   ]
  },
  {
   "cell_type": "code",
   "execution_count": 24,
   "metadata": {},
   "outputs": [
    {
     "data": {
      "text/plain": [
       "ca          1.000000\n",
       "age         0.301043\n",
       "oldpeak     0.210644\n",
       "trestbps    0.134319\n",
       "thal        0.119664\n",
       "fbs         0.088697\n",
       "sex         0.088360\n",
       "exang       0.072554\n",
       "chol        0.042980\n",
       "restecg    -0.031914\n",
       "slope      -0.069520\n",
       "cp         -0.162128\n",
       "thalach    -0.187455\n",
       "target     -0.374026\n",
       "Name: ca, dtype: float64"
      ]
     },
     "execution_count": 24,
     "metadata": {},
     "output_type": "execute_result"
    }
   ],
   "source": [
    "corr_matrix[\"ca\"].sort_values(ascending=False)"
   ]
  },
  {
   "cell_type": "code",
   "execution_count": 25,
   "metadata": {},
   "outputs": [
    {
     "data": {
      "image/png": "[encoded data removed]",
      "text/plain": [
       "<Figure size 864x576 with 49 Axes>"
      ]
     },
     "metadata": {
      "needs_background": "light"
     },
     "output_type": "display_data"
    }
   ],
   "source": [
    "# check correlations between attributes using Pandas' *scatter_matrix*.\n",
    "from pandas.plotting import scatter_matrix\n",
    "\n",
    "attributes = [\"ca\", \"thal\", \"age\", \"oldpeak\",\"trestbps\",\"fbs\",\"sex\"] #only promising attributes.\n",
    "scatter_matrix(data[attributes], figsize=(12, 8))\n",
    "plt.show()\n",
    "\n"
   ]
  },
  {
   "cell_type": "code",
   "execution_count": 26,
   "metadata": {},
   "outputs": [
    {
     "data": {
      "image/png": "[encoded data removed]",
      "text/plain": [
       "<Figure size 432x288 with 1 Axes>"
      ]
     },
     "metadata": {
      "needs_background": "light"
     },
     "output_type": "display_data"
    }
   ],
   "source": [
    "# The most promising attribute to predict the median house value is the median income.\n",
    "data.plot(kind=\"scatter\", x=\"ca\", y=\"oldpeak\", alpha=0.1)\n",
    "plt.axis([0, 4, 0, 5])\n",
    "plt.show()\n"
   ]
  },
  {
   "cell_type": "code",
   "execution_count": 27,
   "metadata": {},
   "outputs": [
    {
     "data": {
      "text/html": [
       "<div>\n",
       "<style scoped>\n",
       "    .dataframe tbody tr th:only-of-type {\n",
       "        vertical-align: middle;\n",
       "    }\n",
       "\n",
       "    .dataframe tbody tr th {\n",
       "        vertical-align: top;\n",
       "    }\n",
       "\n",
       "    .dataframe thead th {\n",
       "        text-align: right;\n",
       "    }\n",
       "</style>\n",
       "<table border=\"1\" class=\"dataframe\">\n",
       "  <thead>\n",
       "    <tr style=\"text-align: right;\">\n",
       "      <th></th>\n",
       "      <th>age</th>\n",
       "      <th>sex</th>\n",
       "      <th>cp</th>\n",
       "      <th>trestbps</th>\n",
       "      <th>chol</th>\n",
       "      <th>fbs</th>\n",
       "      <th>restecg</th>\n",
       "      <th>thalach</th>\n",
       "      <th>exang</th>\n",
       "      <th>oldpeak</th>\n",
       "      <th>slope</th>\n",
       "      <th>ca</th>\n",
       "      <th>thal</th>\n",
       "      <th>target</th>\n",
       "    </tr>\n",
       "  </thead>\n",
       "  <tbody>\n",
       "    <tr>\n",
       "      <th>count</th>\n",
       "      <td>242.000000</td>\n",
       "      <td>242.000000</td>\n",
       "      <td>242.000000</td>\n",
       "      <td>242.00000</td>\n",
       "      <td>242.000000</td>\n",
       "      <td>242.000000</td>\n",
       "      <td>242.000000</td>\n",
       "      <td>242.000000</td>\n",
       "      <td>242.000000</td>\n",
       "      <td>242.000000</td>\n",
       "      <td>242.000000</td>\n",
       "      <td>242.000000</td>\n",
       "      <td>242.000000</td>\n",
       "      <td>242.000000</td>\n",
       "    </tr>\n",
       "    <tr>\n",
       "      <th>mean</th>\n",
       "      <td>54.582645</td>\n",
       "      <td>0.694215</td>\n",
       "      <td>0.971074</td>\n",
       "      <td>131.68595</td>\n",
       "      <td>244.913223</td>\n",
       "      <td>0.152893</td>\n",
       "      <td>0.520661</td>\n",
       "      <td>149.181818</td>\n",
       "      <td>0.330579</td>\n",
       "      <td>1.061570</td>\n",
       "      <td>1.404959</td>\n",
       "      <td>0.731405</td>\n",
       "      <td>2.305785</td>\n",
       "      <td>0.549587</td>\n",
       "    </tr>\n",
       "    <tr>\n",
       "      <th>std</th>\n",
       "      <td>8.926358</td>\n",
       "      <td>0.461694</td>\n",
       "      <td>1.016049</td>\n",
       "      <td>17.74767</td>\n",
       "      <td>53.567547</td>\n",
       "      <td>0.360630</td>\n",
       "      <td>0.524886</td>\n",
       "      <td>22.961993</td>\n",
       "      <td>0.471396</td>\n",
       "      <td>1.174615</td>\n",
       "      <td>0.618907</td>\n",
       "      <td>1.029727</td>\n",
       "      <td>0.635636</td>\n",
       "      <td>0.498566</td>\n",
       "    </tr>\n",
       "    <tr>\n",
       "      <th>min</th>\n",
       "      <td>29.000000</td>\n",
       "      <td>0.000000</td>\n",
       "      <td>0.000000</td>\n",
       "      <td>100.00000</td>\n",
       "      <td>126.000000</td>\n",
       "      <td>0.000000</td>\n",
       "      <td>0.000000</td>\n",
       "      <td>88.000000</td>\n",
       "      <td>0.000000</td>\n",
       "      <td>0.000000</td>\n",
       "      <td>0.000000</td>\n",
       "      <td>0.000000</td>\n",
       "      <td>0.000000</td>\n",
       "      <td>0.000000</td>\n",
       "    </tr>\n",
       "    <tr>\n",
       "      <th>25%</th>\n",
       "      <td>48.000000</td>\n",
       "      <td>0.000000</td>\n",
       "      <td>0.000000</td>\n",
       "      <td>120.00000</td>\n",
       "      <td>210.250000</td>\n",
       "      <td>0.000000</td>\n",
       "      <td>0.000000</td>\n",
       "      <td>134.500000</td>\n",
       "      <td>0.000000</td>\n",
       "      <td>0.000000</td>\n",
       "      <td>1.000000</td>\n",
       "      <td>0.000000</td>\n",
       "      <td>2.000000</td>\n",
       "      <td>0.000000</td>\n",
       "    </tr>\n",
       "    <tr>\n",
       "      <th>50%</th>\n",
       "      <td>56.000000</td>\n",
       "      <td>1.000000</td>\n",
       "      <td>1.000000</td>\n",
       "      <td>130.00000</td>\n",
       "      <td>239.000000</td>\n",
       "      <td>0.000000</td>\n",
       "      <td>1.000000</td>\n",
       "      <td>152.000000</td>\n",
       "      <td>0.000000</td>\n",
       "      <td>0.800000</td>\n",
       "      <td>1.000000</td>\n",
       "      <td>0.000000</td>\n",
       "      <td>2.000000</td>\n",
       "      <td>1.000000</td>\n",
       "    </tr>\n",
       "    <tr>\n",
       "      <th>75%</th>\n",
       "      <td>61.000000</td>\n",
       "      <td>1.000000</td>\n",
       "      <td>2.000000</td>\n",
       "      <td>140.00000</td>\n",
       "      <td>272.500000</td>\n",
       "      <td>0.000000</td>\n",
       "      <td>1.000000</td>\n",
       "      <td>166.000000</td>\n",
       "      <td>1.000000</td>\n",
       "      <td>1.600000</td>\n",
       "      <td>2.000000</td>\n",
       "      <td>1.000000</td>\n",
       "      <td>3.000000</td>\n",
       "      <td>1.000000</td>\n",
       "    </tr>\n",
       "    <tr>\n",
       "      <th>max</th>\n",
       "      <td>77.000000</td>\n",
       "      <td>1.000000</td>\n",
       "      <td>3.000000</td>\n",
       "      <td>200.00000</td>\n",
       "      <td>564.000000</td>\n",
       "      <td>1.000000</td>\n",
       "      <td>2.000000</td>\n",
       "      <td>202.000000</td>\n",
       "      <td>1.000000</td>\n",
       "      <td>6.200000</td>\n",
       "      <td>2.000000</td>\n",
       "      <td>4.000000</td>\n",
       "      <td>3.000000</td>\n",
       "      <td>1.000000</td>\n",
       "    </tr>\n",
       "  </tbody>\n",
       "</table>\n",
       "</div>"
      ],
      "text/plain": [
       "              age         sex          cp   trestbps        chol         fbs  \\\n",
       "count  242.000000  242.000000  242.000000  242.00000  242.000000  242.000000   \n",
       "mean    54.582645    0.694215    0.971074  131.68595  244.913223    0.152893   \n",
       "std      8.926358    0.461694    1.016049   17.74767   53.567547    0.360630   \n",
       "min     29.000000    0.000000    0.000000  100.00000  126.000000    0.000000   \n",
       "25%     48.000000    0.000000    0.000000  120.00000  210.250000    0.000000   \n",
       "50%     56.000000    1.000000    1.000000  130.00000  239.000000    0.000000   \n",
       "75%     61.000000    1.000000    2.000000  140.00000  272.500000    0.000000   \n",
       "max     77.000000    1.000000    3.000000  200.00000  564.000000    1.000000   \n",
       "\n",
       "          restecg     thalach       exang     oldpeak       slope          ca  \\\n",
       "count  242.000000  242.000000  242.000000  242.000000  242.000000  242.000000   \n",
       "mean     0.520661  149.181818    0.330579    1.061570    1.404959    0.731405   \n",
       "std      0.524886   22.961993    0.471396    1.174615    0.618907    1.029727   \n",
       "min      0.000000   88.000000    0.000000    0.000000    0.000000    0.000000   \n",
       "25%      0.000000  134.500000    0.000000    0.000000    1.000000    0.000000   \n",
       "50%      1.000000  152.000000    0.000000    0.800000    1.000000    0.000000   \n",
       "75%      1.000000  166.000000    1.000000    1.600000    2.000000    1.000000   \n",
       "max      2.000000  202.000000    1.000000    6.200000    2.000000    4.000000   \n",
       "\n",
       "             thal      target  \n",
       "count  242.000000  242.000000  \n",
       "mean     2.305785    0.549587  \n",
       "std      0.635636    0.498566  \n",
       "min      0.000000    0.000000  \n",
       "25%      2.000000    0.000000  \n",
       "50%      2.000000    1.000000  \n",
       "75%      3.000000    1.000000  \n",
       "max      3.000000    1.000000  "
      ]
     },
     "execution_count": 27,
     "metadata": {},
     "output_type": "execute_result"
    }
   ],
   "source": [
    "data.describe()#no tomar en cuenta Serial No. se tendra que borrar despues porque no nos sirve, hay que buscar como borrarlo"
   ]
  },
  {
   "cell_type": "markdown",
   "metadata": {},
   "source": [
    "Para la parte del limpiado de los datos, hay que mencionar que en este dataset, no hay valores nulos en ningun campo, pero lo que si hay, esque existe un campo que es llamado \"Serial No.\" el cual no nos sirve puesto que solo es un tipo de index para mantener orden en los datos, por lo que se quitara del dataset."
   ]
  },
  {
   "cell_type": "code",
   "execution_count": 28,
   "metadata": {},
   "outputs": [
    {
     "data": {
      "text/html": [
       "<div>\n",
       "<style scoped>\n",
       "    .dataframe tbody tr th:only-of-type {\n",
       "        vertical-align: middle;\n",
       "    }\n",
       "\n",
       "    .dataframe tbody tr th {\n",
       "        vertical-align: top;\n",
       "    }\n",
       "\n",
       "    .dataframe thead th {\n",
       "        text-align: right;\n",
       "    }\n",
       "</style>\n",
       "<table border=\"1\" class=\"dataframe\">\n",
       "  <thead>\n",
       "    <tr style=\"text-align: right;\">\n",
       "      <th></th>\n",
       "      <th>age</th>\n",
       "      <th>sex</th>\n",
       "      <th>cp</th>\n",
       "      <th>trestbps</th>\n",
       "      <th>chol</th>\n",
       "      <th>fbs</th>\n",
       "      <th>restecg</th>\n",
       "      <th>thalach</th>\n",
       "      <th>exang</th>\n",
       "      <th>oldpeak</th>\n",
       "      <th>slope</th>\n",
       "      <th>ca</th>\n",
       "      <th>thal</th>\n",
       "      <th>target</th>\n",
       "    </tr>\n",
       "  </thead>\n",
       "  <tbody>\n",
       "    <tr>\n",
       "      <th>0</th>\n",
       "      <td>63</td>\n",
       "      <td>1</td>\n",
       "      <td>3</td>\n",
       "      <td>145</td>\n",
       "      <td>233</td>\n",
       "      <td>1</td>\n",
       "      <td>0</td>\n",
       "      <td>150</td>\n",
       "      <td>0</td>\n",
       "      <td>2.3</td>\n",
       "      <td>0</td>\n",
       "      <td>0</td>\n",
       "      <td>1</td>\n",
       "      <td>1</td>\n",
       "    </tr>\n",
       "    <tr>\n",
       "      <th>1</th>\n",
       "      <td>37</td>\n",
       "      <td>1</td>\n",
       "      <td>2</td>\n",
       "      <td>130</td>\n",
       "      <td>250</td>\n",
       "      <td>0</td>\n",
       "      <td>1</td>\n",
       "      <td>187</td>\n",
       "      <td>0</td>\n",
       "      <td>3.5</td>\n",
       "      <td>0</td>\n",
       "      <td>0</td>\n",
       "      <td>2</td>\n",
       "      <td>1</td>\n",
       "    </tr>\n",
       "    <tr>\n",
       "      <th>2</th>\n",
       "      <td>41</td>\n",
       "      <td>0</td>\n",
       "      <td>1</td>\n",
       "      <td>130</td>\n",
       "      <td>204</td>\n",
       "      <td>0</td>\n",
       "      <td>0</td>\n",
       "      <td>172</td>\n",
       "      <td>0</td>\n",
       "      <td>1.4</td>\n",
       "      <td>2</td>\n",
       "      <td>0</td>\n",
       "      <td>2</td>\n",
       "      <td>1</td>\n",
       "    </tr>\n",
       "    <tr>\n",
       "      <th>3</th>\n",
       "      <td>56</td>\n",
       "      <td>1</td>\n",
       "      <td>1</td>\n",
       "      <td>120</td>\n",
       "      <td>236</td>\n",
       "      <td>0</td>\n",
       "      <td>1</td>\n",
       "      <td>178</td>\n",
       "      <td>0</td>\n",
       "      <td>0.8</td>\n",
       "      <td>2</td>\n",
       "      <td>0</td>\n",
       "      <td>2</td>\n",
       "      <td>1</td>\n",
       "    </tr>\n",
       "    <tr>\n",
       "      <th>4</th>\n",
       "      <td>57</td>\n",
       "      <td>0</td>\n",
       "      <td>0</td>\n",
       "      <td>120</td>\n",
       "      <td>354</td>\n",
       "      <td>0</td>\n",
       "      <td>1</td>\n",
       "      <td>163</td>\n",
       "      <td>1</td>\n",
       "      <td>0.6</td>\n",
       "      <td>2</td>\n",
       "      <td>0</td>\n",
       "      <td>2</td>\n",
       "      <td>1</td>\n",
       "    </tr>\n",
       "    <tr>\n",
       "      <th>5</th>\n",
       "      <td>57</td>\n",
       "      <td>1</td>\n",
       "      <td>0</td>\n",
       "      <td>140</td>\n",
       "      <td>192</td>\n",
       "      <td>0</td>\n",
       "      <td>1</td>\n",
       "      <td>148</td>\n",
       "      <td>0</td>\n",
       "      <td>0.4</td>\n",
       "      <td>1</td>\n",
       "      <td>0</td>\n",
       "      <td>1</td>\n",
       "      <td>1</td>\n",
       "    </tr>\n",
       "    <tr>\n",
       "      <th>6</th>\n",
       "      <td>56</td>\n",
       "      <td>0</td>\n",
       "      <td>1</td>\n",
       "      <td>140</td>\n",
       "      <td>294</td>\n",
       "      <td>0</td>\n",
       "      <td>0</td>\n",
       "      <td>153</td>\n",
       "      <td>0</td>\n",
       "      <td>1.3</td>\n",
       "      <td>1</td>\n",
       "      <td>0</td>\n",
       "      <td>2</td>\n",
       "      <td>1</td>\n",
       "    </tr>\n",
       "    <tr>\n",
       "      <th>7</th>\n",
       "      <td>44</td>\n",
       "      <td>1</td>\n",
       "      <td>1</td>\n",
       "      <td>120</td>\n",
       "      <td>263</td>\n",
       "      <td>0</td>\n",
       "      <td>1</td>\n",
       "      <td>173</td>\n",
       "      <td>0</td>\n",
       "      <td>0.0</td>\n",
       "      <td>2</td>\n",
       "      <td>0</td>\n",
       "      <td>3</td>\n",
       "      <td>1</td>\n",
       "    </tr>\n",
       "    <tr>\n",
       "      <th>8</th>\n",
       "      <td>52</td>\n",
       "      <td>1</td>\n",
       "      <td>2</td>\n",
       "      <td>172</td>\n",
       "      <td>199</td>\n",
       "      <td>1</td>\n",
       "      <td>1</td>\n",
       "      <td>162</td>\n",
       "      <td>0</td>\n",
       "      <td>0.5</td>\n",
       "      <td>2</td>\n",
       "      <td>0</td>\n",
       "      <td>3</td>\n",
       "      <td>1</td>\n",
       "    </tr>\n",
       "    <tr>\n",
       "      <th>9</th>\n",
       "      <td>57</td>\n",
       "      <td>1</td>\n",
       "      <td>2</td>\n",
       "      <td>150</td>\n",
       "      <td>168</td>\n",
       "      <td>0</td>\n",
       "      <td>1</td>\n",
       "      <td>174</td>\n",
       "      <td>0</td>\n",
       "      <td>1.6</td>\n",
       "      <td>2</td>\n",
       "      <td>0</td>\n",
       "      <td>2</td>\n",
       "      <td>1</td>\n",
       "    </tr>\n",
       "  </tbody>\n",
       "</table>\n",
       "</div>"
      ],
      "text/plain": [
       "   age  sex  cp  trestbps  chol  fbs  restecg  thalach  exang  oldpeak  slope  \\\n",
       "0   63    1   3       145   233    1        0      150      0      2.3      0   \n",
       "1   37    1   2       130   250    0        1      187      0      3.5      0   \n",
       "2   41    0   1       130   204    0        0      172      0      1.4      2   \n",
       "3   56    1   1       120   236    0        1      178      0      0.8      2   \n",
       "4   57    0   0       120   354    0        1      163      1      0.6      2   \n",
       "5   57    1   0       140   192    0        1      148      0      0.4      1   \n",
       "6   56    0   1       140   294    0        0      153      0      1.3      1   \n",
       "7   44    1   1       120   263    0        1      173      0      0.0      2   \n",
       "8   52    1   2       172   199    1        1      162      0      0.5      2   \n",
       "9   57    1   2       150   168    0        1      174      0      1.6      2   \n",
       "\n",
       "   ca  thal  target  \n",
       "0   0     1       1  \n",
       "1   0     2       1  \n",
       "2   0     2       1  \n",
       "3   0     2       1  \n",
       "4   0     2       1  \n",
       "5   0     1       1  \n",
       "6   0     2       1  \n",
       "7   0     3       1  \n",
       "8   0     3       1  \n",
       "9   0     2       1  "
      ]
     },
     "execution_count": 28,
     "metadata": {},
     "output_type": "execute_result"
    }
   ],
   "source": [
    "#Preparamos los datos para empezar a trabajar\n",
    "dt = pd.read_csv(\"heart.csv\",sep = \",\")\n",
    "dt.head(10)"
   ]
  },
  {
   "cell_type": "code",
   "execution_count": 29,
   "metadata": {},
   "outputs": [
    {
     "data": {
      "text/html": [
       "<div>\n",
       "<style scoped>\n",
       "    .dataframe tbody tr th:only-of-type {\n",
       "        vertical-align: middle;\n",
       "    }\n",
       "\n",
       "    .dataframe tbody tr th {\n",
       "        vertical-align: top;\n",
       "    }\n",
       "\n",
       "    .dataframe thead th {\n",
       "        text-align: right;\n",
       "    }\n",
       "</style>\n",
       "<table border=\"1\" class=\"dataframe\">\n",
       "  <thead>\n",
       "    <tr style=\"text-align: right;\">\n",
       "      <th></th>\n",
       "      <th>age</th>\n",
       "      <th>sex</th>\n",
       "      <th>chest_pain_type</th>\n",
       "      <th>resting_blood_pressure</th>\n",
       "      <th>cholesterol</th>\n",
       "      <th>fasting_blood_sugar</th>\n",
       "      <th>rest_ecg</th>\n",
       "      <th>max_heart_rate_achieved</th>\n",
       "      <th>exercise_induced_angina</th>\n",
       "      <th>st_depression</th>\n",
       "      <th>st_slope</th>\n",
       "      <th>num_major_vessels</th>\n",
       "      <th>thalassemia</th>\n",
       "      <th>target</th>\n",
       "    </tr>\n",
       "  </thead>\n",
       "  <tbody>\n",
       "    <tr>\n",
       "      <th>0</th>\n",
       "      <td>63</td>\n",
       "      <td>1</td>\n",
       "      <td>3</td>\n",
       "      <td>145</td>\n",
       "      <td>233</td>\n",
       "      <td>1</td>\n",
       "      <td>0</td>\n",
       "      <td>150</td>\n",
       "      <td>0</td>\n",
       "      <td>2.3</td>\n",
       "      <td>0</td>\n",
       "      <td>0</td>\n",
       "      <td>1</td>\n",
       "      <td>1</td>\n",
       "    </tr>\n",
       "    <tr>\n",
       "      <th>1</th>\n",
       "      <td>37</td>\n",
       "      <td>1</td>\n",
       "      <td>2</td>\n",
       "      <td>130</td>\n",
       "      <td>250</td>\n",
       "      <td>0</td>\n",
       "      <td>1</td>\n",
       "      <td>187</td>\n",
       "      <td>0</td>\n",
       "      <td>3.5</td>\n",
       "      <td>0</td>\n",
       "      <td>0</td>\n",
       "      <td>2</td>\n",
       "      <td>1</td>\n",
       "    </tr>\n",
       "    <tr>\n",
       "      <th>2</th>\n",
       "      <td>41</td>\n",
       "      <td>0</td>\n",
       "      <td>1</td>\n",
       "      <td>130</td>\n",
       "      <td>204</td>\n",
       "      <td>0</td>\n",
       "      <td>0</td>\n",
       "      <td>172</td>\n",
       "      <td>0</td>\n",
       "      <td>1.4</td>\n",
       "      <td>2</td>\n",
       "      <td>0</td>\n",
       "      <td>2</td>\n",
       "      <td>1</td>\n",
       "    </tr>\n",
       "    <tr>\n",
       "      <th>3</th>\n",
       "      <td>56</td>\n",
       "      <td>1</td>\n",
       "      <td>1</td>\n",
       "      <td>120</td>\n",
       "      <td>236</td>\n",
       "      <td>0</td>\n",
       "      <td>1</td>\n",
       "      <td>178</td>\n",
       "      <td>0</td>\n",
       "      <td>0.8</td>\n",
       "      <td>2</td>\n",
       "      <td>0</td>\n",
       "      <td>2</td>\n",
       "      <td>1</td>\n",
       "    </tr>\n",
       "    <tr>\n",
       "      <th>4</th>\n",
       "      <td>57</td>\n",
       "      <td>0</td>\n",
       "      <td>0</td>\n",
       "      <td>120</td>\n",
       "      <td>354</td>\n",
       "      <td>0</td>\n",
       "      <td>1</td>\n",
       "      <td>163</td>\n",
       "      <td>1</td>\n",
       "      <td>0.6</td>\n",
       "      <td>2</td>\n",
       "      <td>0</td>\n",
       "      <td>2</td>\n",
       "      <td>1</td>\n",
       "    </tr>\n",
       "  </tbody>\n",
       "</table>\n",
       "</div>"
      ],
      "text/plain": [
       "   age  sex  chest_pain_type  resting_blood_pressure  cholesterol  \\\n",
       "0   63    1                3                     145          233   \n",
       "1   37    1                2                     130          250   \n",
       "2   41    0                1                     130          204   \n",
       "3   56    1                1                     120          236   \n",
       "4   57    0                0                     120          354   \n",
       "\n",
       "   fasting_blood_sugar  rest_ecg  max_heart_rate_achieved  \\\n",
       "0                    1         0                      150   \n",
       "1                    0         1                      187   \n",
       "2                    0         0                      172   \n",
       "3                    0         1                      178   \n",
       "4                    0         1                      163   \n",
       "\n",
       "   exercise_induced_angina  st_depression  st_slope  num_major_vessels  \\\n",
       "0                        0            2.3         0                  0   \n",
       "1                        0            3.5         0                  0   \n",
       "2                        0            1.4         2                  0   \n",
       "3                        0            0.8         2                  0   \n",
       "4                        1            0.6         2                  0   \n",
       "\n",
       "   thalassemia  target  \n",
       "0            1       1  \n",
       "1            2       1  \n",
       "2            2       1  \n",
       "3            2       1  \n",
       "4            2       1  "
      ]
     },
     "execution_count": 29,
     "metadata": {},
     "output_type": "execute_result"
    }
   ],
   "source": [
    "dt.columns = ['age', 'sex', 'chest_pain_type', 'resting_blood_pressure', 'cholesterol', 'fasting_blood_sugar', 'rest_ecg', 'max_heart_rate_achieved',\n",
    "       'exercise_induced_angina', 'st_depression', 'st_slope', 'num_major_vessels', 'thalassemia', 'target']\n",
    "dt.head()"
   ]
  },
  {
   "cell_type": "code",
   "execution_count": 30,
   "metadata": {},
   "outputs": [
    {
     "data": {
      "text/plain": [
       "age                          int64\n",
       "sex                          int64\n",
       "chest_pain_type              int64\n",
       "resting_blood_pressure       int64\n",
       "cholesterol                  int64\n",
       "fasting_blood_sugar          int64\n",
       "rest_ecg                     int64\n",
       "max_heart_rate_achieved      int64\n",
       "exercise_induced_angina      int64\n",
       "st_depression              float64\n",
       "st_slope                     int64\n",
       "num_major_vessels            int64\n",
       "thalassemia                  int64\n",
       "target                       int64\n",
       "dtype: object"
      ]
     },
     "execution_count": 30,
     "metadata": {},
     "output_type": "execute_result"
    }
   ],
   "source": [
    "dt.dtypes"
   ]
  },
  {
   "cell_type": "code",
   "execution_count": 31,
   "metadata": {},
   "outputs": [],
   "source": [
    "dt['sex'] = dt['sex'].astype('object')\n",
    "dt['chest_pain_type'] = dt['chest_pain_type'].astype('object')\n",
    "dt['fasting_blood_sugar'] = dt['fasting_blood_sugar'].astype('object')\n",
    "dt['rest_ecg'] = dt['rest_ecg'].astype('object')\n",
    "dt['exercise_induced_angina'] = dt['exercise_induced_angina'].astype('object')\n",
    "dt['st_slope'] = dt['st_slope'].astype('object')\n",
    "dt['thalassemia'] = dt['thalassemia'].astype('object')"
   ]
  },
  {
   "cell_type": "code",
   "execution_count": 32,
   "metadata": {},
   "outputs": [],
   "source": [
    "y = dt[\"target\"].values\n",
    "x = dt.drop([\"target\"],axis=1)\n",
    "\n",
    "# separating train (80%) and test (%20) sets\n",
    "from sklearn.model_selection import train_test_split\n",
    "\n",
    "x_train, x_test,y_train, y_test = train_test_split(x,y,test_size = 0.20,random_state = 42)"
   ]
  },
  {
   "cell_type": "code",
   "execution_count": 33,
   "metadata": {},
   "outputs": [
    {
     "data": {
      "text/plain": [
       "LinearRegression(copy_X=True, fit_intercept=True, n_jobs=None,\n",
       "         normalize=False)"
      ]
     },
     "execution_count": 33,
     "metadata": {},
     "output_type": "execute_result"
    }
   ],
   "source": [
    "from sklearn.linear_model import LinearRegression\n",
    "\n",
    "lin_reg = LinearRegression()\n",
    "lin_reg.fit(x_train, y_train)\n",
    "\n"
   ]
  },
  {
   "cell_type": "code",
   "execution_count": 34,
   "metadata": {},
   "outputs": [
    {
     "name": "stdout",
     "output_type": "stream",
     "text": [
      "Predictions: [ 0.20461609  0.62932079  0.71803669  0.04394647  0.93859572  0.82919673\n",
      "  0.55248505 -0.31123783 -0.12686594  0.50190798  0.67329639  0.22858348\n",
      "  0.83576074  0.10160178  1.1070706   0.90376346  1.08827421  0.21347573\n",
      " -0.14247183 -0.02892816  0.60715419 -0.05665451  0.35685167  0.68434807\n",
      "  0.88713565  0.60700687  0.81935794  0.53123747 -0.10013016  0.8970951\n",
      "  0.05884203  0.07332101 -0.14826886  0.24195448  0.69307817  0.19714348\n",
      "  0.66820272  0.77828265  0.68233201  0.75469071  0.49240619  0.64012072\n",
      "  0.75759582  0.67302635  0.74556992 -0.1916457   0.66356747  0.91773248\n",
      "  0.22766617 -0.00575935  0.15521194 -0.13222102  0.78206754  1.04130301\n",
      "  0.33798087 -0.2796243   0.11850097  0.94519132  0.01120021 -0.218084\n",
      "  0.15742582]\n"
     ]
    }
   ],
   "source": [
    "print(\"Predictions:\", lin_reg.predict(x_test))"
   ]
  },
  {
   "cell_type": "code",
   "execution_count": 35,
   "metadata": {},
   "outputs": [
    {
     "name": "stdout",
     "output_type": "stream",
     "text": [
      "Expected: [0 0 1 0 1 1 1 0 0 1 1 1 1 0 1 1 1 0 0 0 1 0 0 1 1 0 0 1 0 1 1 0 0 1 1 0 1\n",
      " 1 1 1 1 1 1 1 1 0 0 1 0 0 0 0 1 1 0 0 0 1 0 0 0] \n",
      " Obtained [ 0.20461609  0.62932079  0.71803669  0.04394647  0.93859572  0.82919673\n",
      "  0.55248505 -0.31123783 -0.12686594  0.50190798  0.67329639  0.22858348\n",
      "  0.83576074  0.10160178  1.1070706   0.90376346  1.08827421  0.21347573\n",
      " -0.14247183 -0.02892816  0.60715419 -0.05665451  0.35685167  0.68434807\n",
      "  0.88713565  0.60700687  0.81935794  0.53123747 -0.10013016  0.8970951\n",
      "  0.05884203  0.07332101 -0.14826886  0.24195448  0.69307817  0.19714348\n",
      "  0.66820272  0.77828265  0.68233201  0.75469071  0.49240619  0.64012072\n",
      "  0.75759582  0.67302635  0.74556992 -0.1916457   0.66356747  0.91773248\n",
      "  0.22766617 -0.00575935  0.15521194 -0.13222102  0.78206754  1.04130301\n",
      "  0.33798087 -0.2796243   0.11850097  0.94519132  0.01120021 -0.218084\n",
      "  0.15742582]\n"
     ]
    }
   ],
   "source": [
    "print(\"Expected:\", y_test, \"\\n\", \"Obtained\", lin_reg.predict(x_test)) #Hacemos la comparacion de los resultados obtenidos del modelo"
   ]
  },
  {
   "cell_type": "code",
   "execution_count": 36,
   "metadata": {},
   "outputs": [
    {
     "data": {
      "text/plain": [
       "0.34098492624865423"
      ]
     },
     "execution_count": 36,
     "metadata": {},
     "output_type": "execute_result"
    }
   ],
   "source": [
    "from sklearn.metrics import mean_squared_error\n",
    "\n",
    "\n",
    "data_predictions = lin_reg.predict(x_test)\n",
    "lin_mse = mean_squared_error(y_test, data_predictions)\n",
    "lin_rmse = np.sqrt(lin_mse)\n",
    "lin_rmse"
   ]
  },
  {
   "cell_type": "code",
   "execution_count": 37,
   "metadata": {},
   "outputs": [
    {
     "data": {
      "text/plain": [
       "DecisionTreeRegressor(criterion='mse', max_depth=None, max_features=None,\n",
       "           max_leaf_nodes=None, min_impurity_decrease=0.0,\n",
       "           min_impurity_split=None, min_samples_leaf=1,\n",
       "           min_samples_split=2, min_weight_fraction_leaf=0.0,\n",
       "           presort=False, random_state=None, splitter='best')"
      ]
     },
     "execution_count": 37,
     "metadata": {},
     "output_type": "execute_result"
    }
   ],
   "source": [
    "from sklearn.tree import DecisionTreeRegressor\n",
    "\n",
    "\n",
    "tree_reg = DecisionTreeRegressor()\n",
    "tree_reg.fit(x_test, y_test)"
   ]
  },
  {
   "cell_type": "code",
   "execution_count": 38,
   "metadata": {},
   "outputs": [
    {
     "data": {
      "text/plain": [
       "0.4937627496000098"
      ]
     },
     "execution_count": 38,
     "metadata": {},
     "output_type": "execute_result"
    }
   ],
   "source": [
    "##x_train, y_train\n",
    "data_predictions = tree_reg.predict(x_train)\n",
    "tree_mse = mean_squared_error(y_train, data_predictions)\n",
    "tree_rmse = np.sqrt(tree_mse)\n",
    "tree_rmse"
   ]
  },
  {
   "cell_type": "code",
   "execution_count": 39,
   "metadata": {},
   "outputs": [],
   "source": [
    "from sklearn.model_selection import cross_val_score\n",
    "\n",
    "\n",
    "scores = cross_val_score(tree_reg, x_train, y_train, scoring=\"neg_mean_squared_error\", cv=10)\n",
    "tree_rmse_scores = np.sqrt(-scores)"
   ]
  },
  {
   "cell_type": "code",
   "execution_count": 40,
   "metadata": {},
   "outputs": [
    {
     "name": "stdout",
     "output_type": "stream",
     "text": [
      "Scores: [0.56568542 0.28284271 0.57735027 0.5        0.57735027 0.57735027\n",
      " 0.61237244 0.40824829 0.54006172 0.64549722]\n",
      "Mean: 0.5286758620387616\n",
      "Standard deviation: 0.10247845089369897\n"
     ]
    }
   ],
   "source": [
    "def display_scores(scores):\n",
    "    print(\"Scores:\", scores)\n",
    "    print(\"Mean:\", scores.mean())\n",
    "    print(\"Standard deviation:\", scores.std())\n",
    "\n",
    "\n",
    "display_scores(tree_rmse_scores)"
   ]
  },
  {
   "cell_type": "code",
   "execution_count": 41,
   "metadata": {},
   "outputs": [
    {
     "name": "stdout",
     "output_type": "stream",
     "text": [
      "Scores: [0.46026721 0.34312395 0.38936559 0.34757213 0.3742127  0.40602427\n",
      " 0.3585196  0.31665869 0.37226992 0.34936415]\n",
      "Mean: 0.3717378206381528\n",
      "Standard deviation: 0.03800250817127978\n"
     ]
    }
   ],
   "source": [
    "lin_scores = cross_val_score(lin_reg, x_train, y_train, scoring=\"neg_mean_squared_error\", cv=10)\n",
    "\n",
    "lin_rmse_scores = np.sqrt(-lin_scores)\n",
    "display_scores(lin_rmse_scores)"
   ]
  },
  {
   "cell_type": "code",
   "execution_count": 42,
   "metadata": {},
   "outputs": [
    {
     "data": {
      "text/plain": [
       "RandomForestRegressor(bootstrap=True, criterion='mse', max_depth=None,\n",
       "           max_features='auto', max_leaf_nodes=None,\n",
       "           min_impurity_decrease=0.0, min_impurity_split=None,\n",
       "           min_samples_leaf=1, min_samples_split=2,\n",
       "           min_weight_fraction_leaf=0.0, n_estimators=10, n_jobs=None,\n",
       "           oob_score=False, random_state=42, verbose=0, warm_start=False)"
      ]
     },
     "execution_count": 42,
     "metadata": {},
     "output_type": "execute_result"
    }
   ],
   "source": [
    "from sklearn.ensemble import RandomForestRegressor\n",
    "\n",
    "\n",
    "forest_reg = RandomForestRegressor(n_estimators=10, random_state=42)\n",
    "forest_reg.fit(x_train, y_train)"
   ]
  },
  {
   "cell_type": "code",
   "execution_count": 43,
   "metadata": {},
   "outputs": [
    {
     "data": {
      "text/plain": [
       "0.18044939310253827"
      ]
     },
     "execution_count": 43,
     "metadata": {},
     "output_type": "execute_result"
    }
   ],
   "source": [
    "data_predictions = forest_reg.predict(x_train)\n",
    "forest_mse = mean_squared_error(y_train, data_predictions)\n",
    "forest_rmse = np.sqrt(forest_mse)\n",
    "forest_rmse"
   ]
  },
  {
   "cell_type": "code",
   "execution_count": 44,
   "metadata": {},
   "outputs": [],
   "source": [
    "from sklearn.model_selection import cross_val_score\n",
    "\n",
    "scores = cross_val_score(tree_reg, x_train, y_train, scoring=\"neg_mean_squared_error\", cv=10)\n",
    "tree_rmse_scores = np.sqrt(-scores)"
   ]
  },
  {
   "cell_type": "code",
   "execution_count": 45,
   "metadata": {},
   "outputs": [
    {
     "name": "stdout",
     "output_type": "stream",
     "text": [
      "Scores: [0.56568542 0.4        0.57735027 0.5        0.54006172 0.57735027\n",
      " 0.54006172 0.40824829 0.5        0.57735027]\n",
      "Mean: 0.5186107972716621\n",
      "Standard deviation: 0.06358333864504852\n"
     ]
    }
   ],
   "source": [
    "def display_scores(scores):\n",
    "    print(\"Scores:\", scores)\n",
    "    print(\"Mean:\", scores.mean())\n",
    "    print(\"Standard deviation:\", scores.std())\n",
    "\n",
    "display_scores(tree_rmse_scores)"
   ]
  },
  {
   "cell_type": "code",
   "execution_count": 46,
   "metadata": {},
   "outputs": [
    {
     "name": "stdout",
     "output_type": "stream",
     "text": [
      "Scores: [0.46026721 0.34312395 0.38936559 0.34757213 0.3742127  0.40602427\n",
      " 0.3585196  0.31665869 0.37226992 0.34936415]\n",
      "Mean: 0.3717378206381528\n",
      "Standard deviation: 0.03800250817127978\n"
     ]
    }
   ],
   "source": [
    "lin_scores = cross_val_score(lin_reg, x_train, y_train,\n",
    "                             scoring=\"neg_mean_squared_error\", cv=10)\n",
    "lin_rmse_scores = np.sqrt(-lin_scores)\n",
    "display_scores(lin_rmse_scores)\n",
    "\n"
   ]
  },
  {
   "cell_type": "code",
   "execution_count": 47,
   "metadata": {},
   "outputs": [
    {
     "data": {
      "text/plain": [
       "RandomForestRegressor(bootstrap=True, criterion='mse', max_depth=None,\n",
       "           max_features='auto', max_leaf_nodes=None,\n",
       "           min_impurity_decrease=0.0, min_impurity_split=None,\n",
       "           min_samples_leaf=1, min_samples_split=2,\n",
       "           min_weight_fraction_leaf=0.0, n_estimators=10, n_jobs=None,\n",
       "           oob_score=False, random_state=42, verbose=0, warm_start=False)"
      ]
     },
     "execution_count": 47,
     "metadata": {},
     "output_type": "execute_result"
    }
   ],
   "source": [
    "from sklearn.ensemble import RandomForestRegressor\n",
    "\n",
    "forest_reg = RandomForestRegressor(n_estimators=10, random_state=42)\n",
    "forest_reg.fit(x_train, y_train)"
   ]
  },
  {
   "cell_type": "code",
   "execution_count": 48,
   "metadata": {},
   "outputs": [
    {
     "data": {
      "text/plain": [
       "0.18044939310253827"
      ]
     },
     "execution_count": 48,
     "metadata": {},
     "output_type": "execute_result"
    }
   ],
   "source": [
    "housing_predictions = forest_reg.predict(x_train)\n",
    "forest_mse = mean_squared_error(y_train, housing_predictions)\n",
    "forest_rmse = np.sqrt(forest_mse)\n",
    "forest_rmse"
   ]
  },
  {
   "cell_type": "code",
   "execution_count": 49,
   "metadata": {},
   "outputs": [
    {
     "name": "stdout",
     "output_type": "stream",
     "text": [
      "Scores: [0.39242834 0.35608988 0.40620192 0.43349356 0.3082207  0.42229532\n",
      " 0.39528471 0.32210247 0.38997863 0.31556827]\n",
      "Mean: 0.3741663787576298\n",
      "Standard deviation: 0.04325722684209615\n"
     ]
    }
   ],
   "source": [
    "from sklearn.model_selection import cross_val_score\n",
    "\n",
    "forest_scores = cross_val_score(forest_reg, x_train, y_train,\n",
    "                                scoring=\"neg_mean_squared_error\", cv=10)\n",
    "forest_rmse_scores = np.sqrt(-forest_scores)\n",
    "display_scores(forest_rmse_scores)"
   ]
  },
  {
   "cell_type": "code",
   "execution_count": 50,
   "metadata": {},
   "outputs": [
    {
     "data": {
      "text/plain": [
       "count    10.000000\n",
       "mean      0.371738\n",
       "std       0.040058\n",
       "min       0.316659\n",
       "25%       0.348020\n",
       "50%       0.365395\n",
       "75%       0.385577\n",
       "max       0.460267\n",
       "dtype: float64"
      ]
     },
     "execution_count": 50,
     "metadata": {},
     "output_type": "execute_result"
    }
   ],
   "source": [
    "scores = cross_val_score(lin_reg, x_train, y_train, scoring=\"neg_mean_squared_error\", cv=10)\n",
    "pd.Series(np.sqrt(-scores)).describe()"
   ]
  },
  {
   "cell_type": "code",
   "execution_count": 51,
   "metadata": {},
   "outputs": [
    {
     "name": "stderr",
     "output_type": "stream",
     "text": [
      "/usr/local/lib/python3.6/dist-packages/sklearn/model_selection/_search.py:841: DeprecationWarning: The default of the `iid` parameter will change from True to False in version 0.22 and will be removed in 0.24. This will change numeric results when test-set sizes are unequal.\n",
      "  DeprecationWarning)\n"
     ]
    },
    {
     "data": {
      "text/plain": [
       "GridSearchCV(cv=5, error_score='raise-deprecating',\n",
       "       estimator=RandomForestRegressor(bootstrap=True, criterion='mse', max_depth=None,\n",
       "           max_features='auto', max_leaf_nodes=None,\n",
       "           min_impurity_decrease=0.0, min_impurity_split=None,\n",
       "           min_samples_leaf=1, min_samples_split=2,\n",
       "           min_weight_fraction_leaf=0.0, n_estimators='warn', n_jobs=None,\n",
       "           oob_score=False, random_state=42, verbose=0, warm_start=False),\n",
       "       fit_params=None, iid='warn', n_jobs=None,\n",
       "       param_grid=[{'n_estimators': [3, 10], 'max_features': [2, 4, 6]}, {'bootstrap': [False], 'n_estimators': [3, 10], 'max_features': [2, 3, 4]}],\n",
       "       pre_dispatch='2*n_jobs', refit=True, return_train_score=True,\n",
       "       scoring='neg_mean_squared_error', verbose=0)"
      ]
     },
     "execution_count": 51,
     "metadata": {},
     "output_type": "execute_result"
    }
   ],
   "source": [
    "from sklearn.model_selection import GridSearchCV\n",
    "\n",
    "param_grid = [\n",
    "    # try 12 (3×4) combinations of hyperparameters\n",
    "    {'n_estimators': [3, 10], 'max_features': [2, 4, 6]},\n",
    "    # then try 6 (2×3) combinations with bootstrap set as False\n",
    "    {'bootstrap': [False], 'n_estimators': [3, 10], 'max_features': [2, 3, 4]},\n",
    "  ]\n",
    "\n",
    "forest_reg = RandomForestRegressor(random_state=42)\n",
    "# train across 5 folds, that's a total of (12+6)*5=90 rounds of training \n",
    "grid_search = GridSearchCV(forest_reg, param_grid, cv=5,\n",
    "                           scoring='neg_mean_squared_error', return_train_score=True)\n",
    "grid_search.fit(x_train, y_train)"
   ]
  },
  {
   "cell_type": "code",
   "execution_count": 52,
   "metadata": {},
   "outputs": [
    {
     "data": {
      "text/plain": [
       "{'max_features': 4, 'n_estimators': 10}"
      ]
     },
     "execution_count": 52,
     "metadata": {},
     "output_type": "execute_result"
    }
   ],
   "source": [
    "# The best hyperparameter combination\n",
    "grid_search.best_params_"
   ]
  },
  {
   "cell_type": "code",
   "execution_count": 53,
   "metadata": {},
   "outputs": [
    {
     "data": {
      "text/plain": [
       "RandomForestRegressor(bootstrap=True, criterion='mse', max_depth=None,\n",
       "           max_features=4, max_leaf_nodes=None, min_impurity_decrease=0.0,\n",
       "           min_impurity_split=None, min_samples_leaf=1,\n",
       "           min_samples_split=2, min_weight_fraction_leaf=0.0,\n",
       "           n_estimators=10, n_jobs=None, oob_score=False, random_state=42,\n",
       "           verbose=0, warm_start=False)"
      ]
     },
     "execution_count": 53,
     "metadata": {},
     "output_type": "execute_result"
    }
   ],
   "source": [
    "# the best estimator\n",
    "grid_search.best_estimator_"
   ]
  },
  {
   "cell_type": "code",
   "execution_count": 54,
   "metadata": {},
   "outputs": [
    {
     "name": "stdout",
     "output_type": "stream",
     "text": [
      "0.4422581672523159 {'max_features': 2, 'n_estimators': 3}\n",
      "0.38767158291309817 {'max_features': 2, 'n_estimators': 10}\n",
      "0.4014436757421748 {'max_features': 4, 'n_estimators': 3}\n",
      "0.3771905715586317 {'max_features': 4, 'n_estimators': 10}\n",
      "0.4160463702347267 {'max_features': 6, 'n_estimators': 3}\n",
      "0.38783143650366436 {'max_features': 6, 'n_estimators': 10}\n",
      "0.4386095401857615 {'bootstrap': False, 'max_features': 2, 'n_estimators': 3}\n",
      "0.3779566637452255 {'bootstrap': False, 'max_features': 2, 'n_estimators': 10}\n",
      "0.44173877991252275 {'bootstrap': False, 'max_features': 3, 'n_estimators': 3}\n",
      "0.38719162616448827 {'bootstrap': False, 'max_features': 3, 'n_estimators': 10}\n",
      "0.43121968093205176 {'bootstrap': False, 'max_features': 4, 'n_estimators': 3}\n",
      "0.39317524955101657 {'bootstrap': False, 'max_features': 4, 'n_estimators': 10}\n"
     ]
    }
   ],
   "source": [
    "cvres = grid_search.cv_results_\n",
    "for mean_score, params in zip(cvres[\"mean_test_score\"], cvres[\"params\"]):\n",
    "    print(np.sqrt(-mean_score), params)"
   ]
  },
  {
   "cell_type": "code",
   "execution_count": 55,
   "metadata": {},
   "outputs": [
    {
     "name": "stderr",
     "output_type": "stream",
     "text": [
      "/usr/local/lib/python3.6/dist-packages/sklearn/model_selection/_search.py:841: DeprecationWarning: The default of the `iid` parameter will change from True to False in version 0.22 and will be removed in 0.24. This will change numeric results when test-set sizes are unequal.\n",
      "  DeprecationWarning)\n"
     ]
    },
    {
     "data": {
      "text/plain": [
       "RandomizedSearchCV(cv=5, error_score='raise-deprecating',\n",
       "          estimator=RandomForestRegressor(bootstrap=True, criterion='mse', max_depth=None,\n",
       "           max_features='auto', max_leaf_nodes=None,\n",
       "           min_impurity_decrease=0.0, min_impurity_split=None,\n",
       "           min_samples_leaf=1, min_samples_split=2,\n",
       "           min_weight_fraction_leaf=0.0, n_estimators='warn', n_jobs=None,\n",
       "           oob_score=False, random_state=42, verbose=0, warm_start=False),\n",
       "          fit_params=None, iid='warn', n_iter=10, n_jobs=None,\n",
       "          param_distributions={'n_estimators': <scipy.stats._distn_infrastructure.rv_frozen object at 0x7fb2aca19550>, 'max_features': <scipy.stats._distn_infrastructure.rv_frozen object at 0x7fb2aca195c0>},\n",
       "          pre_dispatch='2*n_jobs', random_state=42, refit=True,\n",
       "          return_train_score='warn', scoring='neg_mean_squared_error',\n",
       "          verbose=0)"
      ]
     },
     "execution_count": 55,
     "metadata": {},
     "output_type": "execute_result"
    }
   ],
   "source": [
    "from sklearn.model_selection import RandomizedSearchCV\n",
    "from scipy.stats import randint\n",
    "\n",
    "param_distribs = {\n",
    "        'n_estimators': randint(low=1, high=200),\n",
    "        'max_features': randint(low=1, high=8),\n",
    "    }\n",
    "\n",
    "forest_reg = RandomForestRegressor(random_state=42)\n",
    "rnd_search = RandomizedSearchCV(forest_reg, param_distributions=param_distribs,\n",
    "                                n_iter=10, cv=5, scoring='neg_mean_squared_error', random_state=42)\n",
    "rnd_search.fit(x_train, y_train)"
   ]
  },
  {
   "cell_type": "code",
   "execution_count": 56,
   "metadata": {},
   "outputs": [
    {
     "name": "stdout",
     "output_type": "stream",
     "text": [
      "0.36469787544353094 {'max_features': 7, 'n_estimators': 180}\n",
      "0.37004454599936365 {'max_features': 5, 'n_estimators': 15}\n",
      "0.36732660370911085 {'max_features': 3, 'n_estimators': 72}\n",
      "0.3661912924517611 {'max_features': 5, 'n_estimators': 21}\n",
      "0.3627408441245345 {'max_features': 7, 'n_estimators': 122}\n",
      "0.3662221196965096 {'max_features': 3, 'n_estimators': 75}\n",
      "0.3646072278573656 {'max_features': 3, 'n_estimators': 88}\n",
      "0.36313032972148773 {'max_features': 5, 'n_estimators': 100}\n",
      "0.36320024352447106 {'max_features': 3, 'n_estimators': 150}\n",
      "0.4276110845960632 {'max_features': 5, 'n_estimators': 2}\n"
     ]
    }
   ],
   "source": [
    "cvres = rnd_search.cv_results_\n",
    "for mean_score, params in zip(cvres[\"mean_test_score\"], cvres[\"params\"]):\n",
    "    print(np.sqrt(-mean_score), params)"
   ]
  },
  {
   "cell_type": "code",
   "execution_count": 57,
   "metadata": {},
   "outputs": [
    {
     "data": {
      "text/plain": [
       "array([0.0631291 , 0.02472066, 0.14122906, 0.07538524, 0.06205137,\n",
       "       0.00260689, 0.01862761, 0.15689938, 0.10509277, 0.13815238,\n",
       "       0.03112465, 0.11212821, 0.0688527 ])"
      ]
     },
     "execution_count": 57,
     "metadata": {},
     "output_type": "execute_result"
    }
   ],
   "source": [
    "feature_importances = grid_search.best_estimator_.feature_importances_\n",
    "feature_importances"
   ]
  },
  {
   "cell_type": "code",
   "execution_count": 58,
   "metadata": {},
   "outputs": [
    {
     "data": {
      "text/plain": [
       "0.34044329828073033"
      ]
     },
     "execution_count": 58,
     "metadata": {},
     "output_type": "execute_result"
    }
   ],
   "source": [
    "final_model = grid_search.best_estimator_\n",
    "##x_train, x_test,y_train, y_test\n",
    "\n",
    "X_test_prepared = x_test\n",
    "final_predictions = final_model.predict(X_test_prepared)\n",
    "\n",
    "final_mse = mean_squared_error(y_test, final_predictions)\n",
    "final_rmse = np.sqrt(final_mse)\n",
    "final_rmse"
   ]
  },
  {
   "cell_type": "markdown",
   "metadata": {},
   "source": [
    "# Parte para linear regression vista en clase"
   ]
  },
  {
   "cell_type": "code",
   "execution_count": 59,
   "metadata": {},
   "outputs": [],
   "source": [
    "#Esta es la implementacion en clase\n",
    "from sklearn import datasets\n",
    "from sklearn.model_selection import train_test_split\n",
    "##oldpeak , ca\n",
    "dt= pd.read_csv('heart.csv')\n",
    "\n",
    "X = dt[['ca','oldpeak']].values\n",
    "y = dt['target'].values\n",
    " \n",
    "\n",
    "X_train, X_test, y_train, y_test = train_test_split(X, y, test_size=0.3, random_state=1, stratify=y)\n",
    "\n",
    "X_train_01_subset = X_train[(y_train == 0) | (y_train == 1)]\n",
    "y_train_01_subset = y_train[(y_train == 0) | (y_train == 1)]"
   ]
  },
  {
   "cell_type": "code",
   "execution_count": 60,
   "metadata": {},
   "outputs": [
    {
     "name": "stdout",
     "output_type": "stream",
     "text": [
      "[[0.  2.3]\n",
      " [0.  3.5]\n",
      " [0.  1.4]\n",
      " [0.  0.8]\n",
      " [0.  0.6]\n",
      " [0.  0.4]\n",
      " [0.  1.3]\n",
      " [0.  0. ]\n",
      " [0.  0.5]\n",
      " [0.  1.6]\n",
      " [0.  1.2]\n",
      " [0.  0.2]\n",
      " [0.  0.6]\n",
      " [0.  1.8]\n",
      " [0.  1. ]\n",
      " [0.  1.6]\n",
      " [0.  0. ]\n",
      " [0.  2.6]\n",
      " [0.  1.5]\n",
      " [2.  1.8]\n",
      " [0.  0.5]\n",
      " [0.  0.4]\n",
      " [0.  0. ]\n",
      " [0.  1. ]\n",
      " [0.  1.4]\n",
      " [2.  0.4]\n",
      " [0.  1.6]\n",
      " [0.  0.6]\n",
      " [1.  0.8]\n",
      " [0.  1.2]\n",
      " [1.  0. ]\n",
      " [0.  0.4]\n",
      " [0.  0. ]\n",
      " [1.  0.5]\n",
      " [1.  1.4]\n",
      " [0.  1.4]\n",
      " [0.  0. ]\n",
      " [0.  1.6]\n",
      " [0.  0.8]\n",
      " [0.  0.8]\n",
      " [1.  1.5]\n",
      " [0.  0.2]\n",
      " [0.  3. ]\n",
      " [0.  0.4]\n",
      " [0.  0. ]\n",
      " [0.  0.2]\n",
      " [0.  0. ]\n",
      " [0.  0. ]\n",
      " [0.  0. ]\n",
      " [0.  0. ]\n",
      " [0.  0.5]\n",
      " [0.  0.4]\n",
      " [3.  1.8]\n",
      " [0.  0.6]\n",
      " [0.  0. ]\n",
      " [1.  0.8]\n",
      " [0.  0. ]\n",
      " [0.  0. ]\n",
      " [0.  0. ]\n",
      " [1.  0. ]\n",
      " [1.  0. ]\n",
      " [0.  0. ]\n",
      " [0.  0. ]\n",
      " [0.  0. ]\n",
      " [0.  0. ]\n",
      " [0.  1.4]\n",
      " [0.  1.2]\n",
      " [0.  0.6]\n",
      " [0.  0. ]\n",
      " [0.  0. ]\n",
      " [0.  0.4]\n",
      " [1.  0. ]\n",
      " [0.  0. ]\n",
      " [0.  0. ]\n",
      " [0.  0.2]\n",
      " [0.  1.4]\n",
      " [0.  2.4]\n",
      " [0.  0. ]\n",
      " [0.  0. ]\n",
      " [0.  0.6]\n",
      " [0.  0. ]\n",
      " [0.  0. ]\n",
      " [1.  0. ]\n",
      " [0.  1.2]\n",
      " [0.  0.6]\n",
      " [0.  1.6]\n",
      " [1.  1. ]\n",
      " [0.  0. ]\n",
      " [0.  1.6]\n",
      " [0.  1. ]\n",
      " [2.  0. ]\n",
      " [0.  0. ]\n",
      " [4.  0. ]\n",
      " [1.  0. ]\n",
      " [0.  0. ]\n",
      " [0.  0. ]\n",
      " [0.  1.2]\n",
      " [3.  0.1]\n",
      " [1.  1.9]\n",
      " [3.  0. ]\n",
      " [2.  0.8]\n",
      " [0.  4.2]\n",
      " [2.  0. ]\n",
      " [0.  0.8]\n",
      " [0.  0. ]\n",
      " [0.  1.5]\n",
      " [1.  0.1]\n",
      " [0.  0.2]\n",
      " [0.  1.1]\n",
      " [0.  0. ]\n",
      " [0.  0. ]\n",
      " [1.  0.2]\n",
      " [0.  0.2]\n",
      " [0.  0. ]\n",
      " [0.  0. ]\n",
      " [0.  0. ]\n",
      " [0.  2. ]\n",
      " [0.  1.9]\n",
      " [0.  0. ]\n",
      " [0.  0. ]\n",
      " [2.  2. ]\n",
      " [0.  0. ]\n",
      " [0.  0. ]\n",
      " [0.  0. ]\n",
      " [0.  0. ]\n",
      " [0.  0.7]\n",
      " [0.  0.1]\n",
      " [1.  0. ]\n",
      " [0.  0.1]\n",
      " [1.  0.2]\n",
      " [1.  0. ]\n",
      " [0.  0. ]\n",
      " [0.  0. ]\n",
      " [0.  0. ]\n",
      " [0.  0. ]\n",
      " [0.  0. ]\n",
      " [0.  0. ]\n",
      " [0.  0. ]\n",
      " [0.  1.5]\n",
      " [1.  0.2]\n",
      " [0.  0.6]\n",
      " [0.  1.2]\n",
      " [0.  0. ]\n",
      " [2.  0.3]\n",
      " [0.  1.1]\n",
      " [0.  0. ]\n",
      " [1.  0.3]\n",
      " [0.  0.9]\n",
      " [0.  0. ]\n",
      " [0.  0. ]\n",
      " [0.  2.3]\n",
      " [0.  1.6]\n",
      " [0.  0.6]\n",
      " [1.  0. ]\n",
      " [0.  0. ]\n",
      " [0.  0.6]\n",
      " [0.  0. ]\n",
      " [0.  0. ]\n",
      " [4.  0.4]\n",
      " [0.  0. ]\n",
      " [0.  0. ]\n",
      " [0.  1.2]\n",
      " [0.  0. ]\n",
      " [4.  0. ]\n",
      " [4.  0. ]\n",
      " [3.  1.5]\n",
      " [2.  2.6]\n",
      " [2.  3.6]\n",
      " [1.  1.4]\n",
      " [0.  3.1]\n",
      " [1.  0.6]\n",
      " [0.  1. ]\n",
      " [0.  1.8]\n",
      " [2.  3.2]\n",
      " [2.  2.4]\n",
      " [0.  2. ]\n",
      " [2.  1.4]\n",
      " [0.  0. ]\n",
      " [0.  2.5]\n",
      " [1.  0.6]\n",
      " [1.  1.2]\n",
      " [3.  1. ]\n",
      " [0.  0. ]\n",
      " [1.  2.5]\n",
      " [0.  2.6]\n",
      " [1.  0. ]\n",
      " [1.  1.4]\n",
      " [1.  2.2]\n",
      " [1.  0.6]\n",
      " [0.  0. ]\n",
      " [0.  1.2]\n",
      " [3.  2.2]\n",
      " [1.  1.4]\n",
      " [2.  2.8]\n",
      " [0.  3. ]\n",
      " [0.  3.4]\n",
      " [0.  3.6]\n",
      " [2.  0.2]\n",
      " [2.  1.8]\n",
      " [2.  0.6]\n",
      " [1.  0. ]\n",
      " [1.  2.8]\n",
      " [0.  0.8]\n",
      " [0.  1.6]\n",
      " [3.  6.2]\n",
      " [1.  0. ]\n",
      " [1.  1.2]\n",
      " [2.  2.6]\n",
      " [3.  2. ]\n",
      " [1.  0. ]\n",
      " [1.  0.4]\n",
      " [1.  3.6]\n",
      " [0.  1.2]\n",
      " [0.  1. ]\n",
      " [1.  1.2]\n",
      " [0.  3. ]\n",
      " [1.  1.2]\n",
      " [3.  1.8]\n",
      " [1.  2.8]\n",
      " [2.  0. ]\n",
      " [3.  4. ]\n",
      " [0.  5.6]\n",
      " [1.  1.4]\n",
      " [2.  4. ]\n",
      " [1.  2.8]\n",
      " [0.  2.6]\n",
      " [1.  1.4]\n",
      " [0.  1.6]\n",
      " [0.  0.2]\n",
      " [0.  1.8]\n",
      " [0.  0. ]\n",
      " [3.  1. ]\n",
      " [1.  0.8]\n",
      " [1.  2.2]\n",
      " [3.  2.4]\n",
      " [0.  1.6]\n",
      " [2.  0. ]\n",
      " [2.  1.2]\n",
      " [3.  0. ]\n",
      " [0.  0. ]\n",
      " [1.  2.9]\n",
      " [0.  0. ]\n",
      " [2.  2. ]\n",
      " [1.  1.2]\n",
      " [1.  2.1]\n",
      " [0.  0.5]\n",
      " [2.  1.9]\n",
      " [3.  0. ]\n",
      " [1.  0. ]\n",
      " [3.  2. ]\n",
      " [3.  4.2]\n",
      " [4.  0.1]\n",
      " [3.  1.9]\n",
      " [2.  0.9]\n",
      " [0.  0. ]\n",
      " [3.  0. ]\n",
      " [2.  3. ]\n",
      " [0.  0.9]\n",
      " [0.  1.4]\n",
      " [0.  3.8]\n",
      " [2.  1. ]\n",
      " [1.  0. ]\n",
      " [2.  2. ]\n",
      " [2.  1.8]\n",
      " [1.  0. ]\n",
      " [1.  0.1]\n",
      " [0.  3.4]\n",
      " [3.  0.8]\n",
      " [2.  3.2]\n",
      " [0.  1.6]\n",
      " [0.  0.8]\n",
      " [2.  2.6]\n",
      " [0.  1. ]\n",
      " [1.  0.1]\n",
      " [1.  1. ]\n",
      " [2.  1. ]\n",
      " [1.  2. ]\n",
      " [0.  0.3]\n",
      " [2.  0. ]\n",
      " [1.  3.6]\n",
      " [0.  1.8]\n",
      " [0.  1. ]\n",
      " [1.  2.2]\n",
      " [0.  0. ]\n",
      " [1.  1.9]\n",
      " [2.  1.8]\n",
      " [2.  0.8]\n",
      " [1.  0. ]\n",
      " [1.  3. ]\n",
      " [1.  2. ]\n",
      " [1.  0. ]\n",
      " [3.  4.4]\n",
      " [2.  2.8]\n",
      " [0.  0.8]\n",
      " [0.  2.8]\n",
      " [2.  4. ]\n",
      " [0.  0. ]\n",
      " [2.  1. ]\n",
      " [0.  0.2]\n",
      " [0.  1.2]\n",
      " [2.  3.4]\n",
      " [1.  1.2]\n",
      " [1.  0. ]]\n"
     ]
    }
   ],
   "source": [
    "print(X)"
   ]
  },
  {
   "cell_type": "code",
   "execution_count": 61,
   "metadata": {},
   "outputs": [
    {
     "name": "stdout",
     "output_type": "stream",
     "text": [
      "[1 1 1 1 1 1 1 1 1 1 1 1 1 1 1 1 1 1 1 1 1 1 1 1 1 1 1 1 1 1 1 1 1 1 1 1 1\n",
      " 1 1 1 1 1 1 1 1 1 1 1 1 1 1 1 1 1 1 1 1 1 1 1 1 1 1 1 1 1 1 1 1 1 1 1 1 1\n",
      " 1 1 1 1 1 1 1 1 1 1 1 1 1 1 1 1 1 1 1 1 1 1 1 1 1 1 1 1 1 1 1 1 1 1 1 1 1\n",
      " 1 1 1 1 1 1 1 1 1 1 1 1 1 1 1 1 1 1 1 1 1 1 1 1 1 1 1 1 1 1 1 1 1 1 1 1 1\n",
      " 1 1 1 1 1 1 1 1 1 1 1 1 1 1 1 1 1 0 0 0 0 0 0 0 0 0 0 0 0 0 0 0 0 0 0 0 0\n",
      " 0 0 0 0 0 0 0 0 0 0 0 0 0 0 0 0 0 0 0 0 0 0 0 0 0 0 0 0 0 0 0 0 0 0 0 0 0\n",
      " 0 0 0 0 0 0 0 0 0 0 0 0 0 0 0 0 0 0 0 0 0 0 0 0 0 0 0 0 0 0 0 0 0 0 0 0 0\n",
      " 0 0 0 0 0 0 0 0 0 0 0 0 0 0 0 0 0 0 0 0 0 0 0 0 0 0 0 0 0 0 0 0 0 0 0 0 0\n",
      " 0 0 0 0 0 0 0]\n"
     ]
    }
   ],
   "source": [
    "print(y)"
   ]
  },
  {
   "cell_type": "markdown",
   "metadata": {},
   "source": [
    "Implementacion expuesta en clase"
   ]
  },
  {
   "cell_type": "code",
   "execution_count": 62,
   "metadata": {},
   "outputs": [
    {
     "data": {
      "image/png": "[encoded data removed]",
      "text/plain": [
       "<Figure size 432x288 with 1 Axes>"
      ]
     },
     "metadata": {
      "needs_background": "light"
     },
     "output_type": "display_data"
    }
   ],
   "source": [
    "from plot_regions import plot_decision_regions\n",
    "from logistic_regression_gd import LogisticRegressionGD\n",
    "\n",
    "lrgd = LogisticRegressionGD(eta=0.05, n_iter=2000, random_state=1)\n",
    "\n",
    "lrgd.fit(X_train_01_subset, y_train_01_subset)\n",
    "\n",
    "plot_decision_regions(x=X_train_01_subset, y=y_train_01_subset, classifier=lrgd)\n",
    "\n",
    "plt.xlabel('petal length [standardized]')\n",
    "plt.ylabel('petal width [standardized]')\n",
    "plt.legend(loc='upper left')\n",
    "plt.show()"
   ]
  },
  {
   "cell_type": "markdown",
   "metadata": {},
   "source": [
    "## Linear Regression Manual"
   ]
  },
  {
   "cell_type": "markdown",
   "metadata": {},
   "source": [
    "Ahora nos toca a nosotros crear el modelo de la regresión logistica para poder realizar la clasificación binaria"
   ]
  },
  {
   "cell_type": "code",
   "execution_count": 63,
   "metadata": {},
   "outputs": [
    {
     "name": "stdout",
     "output_type": "stream",
     "text": [
      "[[0.  2.3]\n",
      " [0.  3.5]\n",
      " [0.  1.4]\n",
      " [0.  0.8]\n",
      " [0.  0.6]\n",
      " [0.  0.4]\n",
      " [0.  1.3]\n",
      " [0.  0. ]\n",
      " [0.  0.5]\n",
      " [0.  1.6]\n",
      " [0.  1.2]\n",
      " [0.  0.2]\n",
      " [0.  0.6]\n",
      " [0.  1.8]\n",
      " [0.  1. ]\n",
      " [0.  1.6]\n",
      " [0.  0. ]\n",
      " [0.  2.6]\n",
      " [0.  1.5]\n",
      " [2.  1.8]\n",
      " [0.  0.5]\n",
      " [0.  0.4]\n",
      " [0.  0. ]\n",
      " [0.  1. ]\n",
      " [0.  1.4]\n",
      " [2.  0.4]\n",
      " [0.  1.6]\n",
      " [0.  0.6]\n",
      " [1.  0.8]\n",
      " [0.  1.2]\n",
      " [1.  0. ]\n",
      " [0.  0.4]\n",
      " [0.  0. ]\n",
      " [1.  0.5]\n",
      " [1.  1.4]\n",
      " [0.  1.4]\n",
      " [0.  0. ]\n",
      " [0.  1.6]\n",
      " [0.  0.8]\n",
      " [0.  0.8]\n",
      " [1.  1.5]\n",
      " [0.  0.2]\n",
      " [0.  3. ]\n",
      " [0.  0.4]\n",
      " [0.  0. ]\n",
      " [0.  0.2]\n",
      " [0.  0. ]\n",
      " [0.  0. ]\n",
      " [0.  0. ]\n",
      " [0.  0. ]\n",
      " [0.  0.5]\n",
      " [0.  0.4]\n",
      " [3.  1.8]\n",
      " [0.  0.6]\n",
      " [0.  0. ]\n",
      " [1.  0.8]\n",
      " [0.  0. ]\n",
      " [0.  0. ]\n",
      " [0.  0. ]\n",
      " [1.  0. ]\n",
      " [1.  0. ]\n",
      " [0.  0. ]\n",
      " [0.  0. ]\n",
      " [0.  0. ]\n",
      " [0.  0. ]\n",
      " [0.  1.4]\n",
      " [0.  1.2]\n",
      " [0.  0.6]\n",
      " [0.  0. ]\n",
      " [0.  0. ]\n",
      " [0.  0.4]\n",
      " [1.  0. ]\n",
      " [0.  0. ]\n",
      " [0.  0. ]\n",
      " [0.  0.2]\n",
      " [0.  1.4]\n",
      " [0.  2.4]\n",
      " [0.  0. ]\n",
      " [0.  0. ]\n",
      " [0.  0.6]\n",
      " [0.  0. ]\n",
      " [0.  0. ]\n",
      " [1.  0. ]\n",
      " [0.  1.2]\n",
      " [0.  0.6]\n",
      " [0.  1.6]\n",
      " [1.  1. ]\n",
      " [0.  0. ]\n",
      " [0.  1.6]\n",
      " [0.  1. ]\n",
      " [2.  0. ]\n",
      " [0.  0. ]\n",
      " [4.  0. ]\n",
      " [1.  0. ]\n",
      " [0.  0. ]\n",
      " [0.  0. ]\n",
      " [0.  1.2]\n",
      " [3.  0.1]\n",
      " [1.  1.9]\n",
      " [3.  0. ]\n",
      " [2.  0.8]\n",
      " [0.  4.2]\n",
      " [2.  0. ]\n",
      " [0.  0.8]\n",
      " [0.  0. ]\n",
      " [0.  1.5]\n",
      " [1.  0.1]\n",
      " [0.  0.2]\n",
      " [0.  1.1]\n",
      " [0.  0. ]\n",
      " [0.  0. ]\n",
      " [1.  0.2]\n",
      " [0.  0.2]\n",
      " [0.  0. ]\n",
      " [0.  0. ]\n",
      " [0.  0. ]\n",
      " [0.  2. ]\n",
      " [0.  1.9]\n",
      " [0.  0. ]\n",
      " [0.  0. ]\n",
      " [2.  2. ]\n",
      " [0.  0. ]\n",
      " [0.  0. ]\n",
      " [0.  0. ]\n",
      " [0.  0. ]\n",
      " [0.  0.7]\n",
      " [0.  0.1]\n",
      " [1.  0. ]\n",
      " [0.  0.1]\n",
      " [1.  0.2]\n",
      " [1.  0. ]\n",
      " [0.  0. ]\n",
      " [0.  0. ]\n",
      " [0.  0. ]\n",
      " [0.  0. ]\n",
      " [0.  0. ]\n",
      " [0.  0. ]\n",
      " [0.  0. ]\n",
      " [0.  1.5]\n",
      " [1.  0.2]\n",
      " [0.  0.6]\n",
      " [0.  1.2]\n",
      " [0.  0. ]\n",
      " [2.  0.3]\n",
      " [0.  1.1]\n",
      " [0.  0. ]\n",
      " [1.  0.3]\n",
      " [0.  0.9]\n",
      " [0.  0. ]\n",
      " [0.  0. ]\n",
      " [0.  2.3]\n",
      " [0.  1.6]\n",
      " [0.  0.6]\n",
      " [1.  0. ]\n",
      " [0.  0. ]\n",
      " [0.  0.6]\n",
      " [0.  0. ]\n",
      " [0.  0. ]\n",
      " [4.  0.4]\n",
      " [0.  0. ]\n",
      " [0.  0. ]\n",
      " [0.  1.2]\n",
      " [0.  0. ]\n",
      " [4.  0. ]\n",
      " [4.  0. ]\n",
      " [3.  1.5]\n",
      " [2.  2.6]\n",
      " [2.  3.6]\n",
      " [1.  1.4]\n",
      " [0.  3.1]\n",
      " [1.  0.6]\n",
      " [0.  1. ]\n",
      " [0.  1.8]\n",
      " [2.  3.2]\n",
      " [2.  2.4]\n",
      " [0.  2. ]\n",
      " [2.  1.4]\n",
      " [0.  0. ]\n",
      " [0.  2.5]\n",
      " [1.  0.6]\n",
      " [1.  1.2]\n",
      " [3.  1. ]\n",
      " [0.  0. ]\n",
      " [1.  2.5]\n",
      " [0.  2.6]\n",
      " [1.  0. ]\n",
      " [1.  1.4]\n",
      " [1.  2.2]\n",
      " [1.  0.6]\n",
      " [0.  0. ]\n",
      " [0.  1.2]\n",
      " [3.  2.2]\n",
      " [1.  1.4]\n",
      " [2.  2.8]\n",
      " [0.  3. ]\n",
      " [0.  3.4]\n",
      " [0.  3.6]\n",
      " [2.  0.2]\n",
      " [2.  1.8]\n",
      " [2.  0.6]\n",
      " [1.  0. ]\n",
      " [1.  2.8]\n",
      " [0.  0.8]\n",
      " [0.  1.6]\n",
      " [3.  6.2]\n",
      " [1.  0. ]\n",
      " [1.  1.2]\n",
      " [2.  2.6]\n",
      " [3.  2. ]\n",
      " [1.  0. ]\n",
      " [1.  0.4]\n",
      " [1.  3.6]\n",
      " [0.  1.2]\n",
      " [0.  1. ]\n",
      " [1.  1.2]\n",
      " [0.  3. ]\n",
      " [1.  1.2]\n",
      " [3.  1.8]\n",
      " [1.  2.8]\n",
      " [2.  0. ]\n",
      " [3.  4. ]\n",
      " [0.  5.6]\n",
      " [1.  1.4]\n",
      " [2.  4. ]\n",
      " [1.  2.8]\n",
      " [0.  2.6]\n",
      " [1.  1.4]\n",
      " [0.  1.6]\n",
      " [0.  0.2]\n",
      " [0.  1.8]\n",
      " [0.  0. ]\n",
      " [3.  1. ]\n",
      " [1.  0.8]\n",
      " [1.  2.2]\n",
      " [3.  2.4]\n",
      " [0.  1.6]\n",
      " [2.  0. ]\n",
      " [2.  1.2]\n",
      " [3.  0. ]\n",
      " [0.  0. ]\n",
      " [1.  2.9]\n",
      " [0.  0. ]\n",
      " [2.  2. ]\n",
      " [1.  1.2]\n",
      " [1.  2.1]\n",
      " [0.  0.5]\n",
      " [2.  1.9]\n",
      " [3.  0. ]\n",
      " [1.  0. ]\n",
      " [3.  2. ]\n",
      " [3.  4.2]\n",
      " [4.  0.1]\n",
      " [3.  1.9]\n",
      " [2.  0.9]\n",
      " [0.  0. ]\n",
      " [3.  0. ]\n",
      " [2.  3. ]\n",
      " [0.  0.9]\n",
      " [0.  1.4]\n",
      " [0.  3.8]\n",
      " [2.  1. ]\n",
      " [1.  0. ]\n",
      " [2.  2. ]\n",
      " [2.  1.8]\n",
      " [1.  0. ]\n",
      " [1.  0.1]\n",
      " [0.  3.4]\n",
      " [3.  0.8]\n",
      " [2.  3.2]\n",
      " [0.  1.6]\n",
      " [0.  0.8]\n",
      " [2.  2.6]\n",
      " [0.  1. ]\n",
      " [1.  0.1]\n",
      " [1.  1. ]\n",
      " [2.  1. ]\n",
      " [1.  2. ]\n",
      " [0.  0.3]\n",
      " [2.  0. ]\n",
      " [1.  3.6]\n",
      " [0.  1.8]\n",
      " [0.  1. ]\n",
      " [1.  2.2]\n",
      " [0.  0. ]\n",
      " [1.  1.9]\n",
      " [2.  1.8]\n",
      " [2.  0.8]\n",
      " [1.  0. ]\n",
      " [1.  3. ]\n",
      " [1.  2. ]\n",
      " [1.  0. ]\n",
      " [3.  4.4]\n",
      " [2.  2.8]\n",
      " [0.  0.8]\n",
      " [0.  2.8]\n",
      " [2.  4. ]\n",
      " [0.  0. ]\n",
      " [2.  1. ]\n",
      " [0.  0.2]\n",
      " [0.  1.2]\n",
      " [2.  3.4]\n",
      " [1.  1.2]\n",
      " [1.  0. ]]\n",
      "[1 1 1 1 1 1 1 1 1 1 1 1 1 1 1 1 1 1 1 1 1 1 1 1 1 1 1 1 1 1 1 1 1 1 1 1 1\n",
      " 1 1 1 1 1 1 1 1 1 1 1 1 1 1 1 1 1 1 1 1 1 1 1 1 1 1 1 1 1 1 1 1 1 1 1 1 1\n",
      " 1 1 1 1 1 1 1 1 1 1 1 1 1 1 1 1 1 1 1 1 1 1 1 1 1 1 1 1 1 1 1 1 1 1 1 1 1\n",
      " 1 1 1 1 1 1 1 1 1 1 1 1 1 1 1 1 1 1 1 1 1 1 1 1 1 1 1 1 1 1 1 1 1 1 1 1 1\n",
      " 1 1 1 1 1 1 1 1 1 1 1 1 1 1 1 1 1 0 0 0 0 0 0 0 0 0 0 0 0 0 0 0 0 0 0 0 0\n",
      " 0 0 0 0 0 0 0 0 0 0 0 0 0 0 0 0 0 0 0 0 0 0 0 0 0 0 0 0 0 0 0 0 0 0 0 0 0\n",
      " 0 0 0 0 0 0 0 0 0 0 0 0 0 0 0 0 0 0 0 0 0 0 0 0 0 0 0 0 0 0 0 0 0 0 0 0 0\n",
      " 0 0 0 0 0 0 0 0 0 0 0 0 0 0 0 0 0 0 0 0 0 0 0 0 0 0 0 0 0 0 0 0 0 0 0 0 0\n",
      " 0 0 0 0 0 0 0]\n"
     ]
    }
   ],
   "source": [
    "dt= pd.read_csv('heart.csv')\n",
    "#Obtenemos los datos para el programa\n",
    "X = dt[['ca','oldpeak']].values\n",
    "y = dt['target'].values\n",
    "print(X)\n",
    "print(y)"
   ]
  },
  {
   "cell_type": "markdown",
   "metadata": {},
   "source": [
    "Lo visto en clase indica que tenemos que hacer que el modelo defina si un nuevo dato pertenece a la clase 1 o a la clase 0, para este problema si es propenso a tener problemas del corazon.\n",
    "Para esto es necesario definir una sigmoide debido a que se buscan valores superiores a 0 pero que sean menores que 1. Se tienen que definir "
   ]
  },
  {
   "cell_type": "markdown",
   "metadata": {},
   "source": [
    "S(z)=$\\frac{1}{1-e^{x}}$  donde Z=$w^T$*x+b"
   ]
  },
  {
   "cell_type": "markdown",
   "metadata": {},
   "source": [
    "Esto si lo traducimos a codigo en una sencilla implementacion obtenemos:"
   ]
  },
  {
   "cell_type": "code",
   "execution_count": 64,
   "metadata": {},
   "outputs": [],
   "source": [
    "class LogisticRegressionManual:\n",
    "    \n",
    "    def __init__(self, lr=0.01, num_iter=100000, fit_intercept=True, verbose=False):\n",
    "        self.lr = lr\n",
    "        self.verbose=verbose\n",
    "        self.num_iter = num_iter\n",
    "        self.fit_intercept = fit_intercept\n",
    "    \n",
    "    def __add_intercept(self, X):\n",
    "        intercept = np.ones((X.shape[0], 1))\n",
    "        return np.concatenate((intercept, X), axis=1)\n",
    "    \n",
    "    def __sigmoide(self, z):#Funcion de l sigmoide\n",
    "        return 1 / (1 + np.exp(-z))\n",
    "\n",
    "    def __funciondeerror(self, h, y):\n",
    "        return (-y * np.log(h) - (1 - y) * np.log(1 - h)).mean()\n",
    "    \n",
    "    def fit(self, X, y):\n",
    "        if self.fit_intercept:\n",
    "            X = self.__add_intercept(X)\n",
    "        \n",
    "        # inicializacion de los pesos, se inician en 0 pero se puede con otros valores (se recomienda de -3 a 3)\n",
    "        self.theta = np.zeros(X.shape[1])\n",
    "        #Se define el numero de iteraciones que se hara la busqueda, en este caso dejamos a un lado las epocas\n",
    "        for i in range(self.num_iter):\n",
    "            z = np.dot(X, self.theta)\n",
    "            h = self.__sigmoide(z)\n",
    "            #Aqui se realiza la funcion del gradiente descendiente, con el fin de minimizar la funcion de error\n",
    "            #obteniendo el resultado de la derivada parcial de (1/m)*X^(g(XdeTheta)-y), en donde segun esta derivada\n",
    "            #se hace mas grande o pequenos los pesos (thetha)\n",
    "            gradient = np.dot(X.T, (h - y)) / y.size\n",
    "            self.theta -= self.lr * gradient\n",
    "            \n",
    "            if(self.verbose == True and i % 10000 == 0):\n",
    "                z = np.dot(X, self.theta)\n",
    "                h = self.__sigmoide(z)\n",
    "                print(f'Funcion de error: {self.__funciondeerror(h, y)} \\t')\n",
    "    \n",
    "    def predict_probabilidad(self, X):\n",
    "        if self.fit_intercept:\n",
    "            X = self.__add_intercept(X)\n",
    "    \n",
    "        return self.__sigmoide(np.dot(X, self.theta))\n",
    "    \n",
    "    def predict(self, X, umbral):\n",
    "        print(f'W:{self.theta}')\n",
    "        return self.predict_probabilidad(X) >= umbral#Si el valor supera el umbral de devuelve true que es 1, en caso contrario se devuelve 0 que es false"
   ]
  },
  {
   "cell_type": "code",
   "execution_count": 65,
   "metadata": {},
   "outputs": [],
   "source": [
    "learningrate=0.3\n",
    "lrm = LogisticRegressionManual(learningrate, num_iter=400000)\n",
    "lrm.fit(X, y)"
   ]
  },
  {
   "cell_type": "code",
   "execution_count": 66,
   "metadata": {},
   "outputs": [
    {
     "name": "stdout",
     "output_type": "stream",
     "text": [
      "W:[ 1.647679   -0.81880078 -0.90063489]\n",
      "Porcentaje de precisión\n"
     ]
    },
    {
     "data": {
      "text/plain": [
       "0.7458745874587459"
      ]
     },
     "execution_count": 66,
     "metadata": {},
     "output_type": "execute_result"
    }
   ],
   "source": [
    "umbral=0.5 ##aqui se define el umbral, en la clase se vio que se definio 0.5\n",
    "#pero dependiendo del problema puede variar este valor segun tengo entendido\n",
    "perdicciones = lrm.predict(X,umbral)\n",
    "\n",
    "print(\"Porcentaje de precisión\")\n",
    "(perdicciones == y).mean()"
   ]
  },
  {
   "cell_type": "code",
   "execution_count": 67,
   "metadata": {},
   "outputs": [
    {
     "name": "stdout",
     "output_type": "stream",
     "text": [
      "W:[ 1.647679   -0.81880078 -0.90063489]\n",
      "Resultados esperados\n",
      "[False False  True  True  True  True  True  True  True  True  True  True\n",
      "  True  True  True  True  True False  True False  True  True  True  True\n",
      "  True False  True  True  True  True  True  True  True  True False  True\n",
      "  True  True  True  True False  True False  True  True  True  True  True\n",
      "  True  True  True  True False  True  True  True  True  True  True  True\n",
      "  True  True  True  True  True  True  True  True  True  True  True  True\n",
      "  True  True  True  True False  True  True  True  True  True  True  True\n",
      "  True  True False  True  True  True  True  True False  True  True  True\n",
      "  True False False False]\n",
      "[1 1 1 1 1 1 1 1 1 1 1 1 1 1 1 1 1 1 1 1 1 1 1 1 1 1 1 1 1 1 1 1 1 1 1 1 1\n",
      " 1 1 1 1 1 1 1 1 1 1 1 1 1 1 1 1 1 1 1 1 1 1 1 1 1 1 1 1 1 1 1 1 1 1 1 1 1\n",
      " 1 1 1 1 1 1 1 1 1 1 1 1 1 1 1 1 1 1 1 1 1 1 1 1 1 1]\n",
      "Precisión\n"
     ]
    },
    {
     "data": {
      "text/plain": [
       "0.85"
      ]
     },
     "execution_count": 67,
     "metadata": {},
     "output_type": "execute_result"
    }
   ],
   "source": [
    "#Ahora procedemos a usar los datos de prueba \n",
    "dt2= pd.read_csv('heart.csv')\n",
    "#Obtenemos los datos para el programa\n",
    "X2 = dt2[['ca','oldpeak']].values\n",
    "y2 = dt2['target'].values\n",
    "X2 =  X2[:100]# tomamos los ultimos 100 datos del dataset\n",
    "y2 =  y2[:100]# tomamos los ultimos 100 datos del dataset\n",
    "perdicciones = lrm.predict(X2,umbral)\n",
    "print(\"Resultados esperados\")\n",
    "print(perdicciones)#True = 1, False = 0\n",
    "print(y2)\n",
    "print('Precisión')\n",
    "(perdicciones == y2).mean()"
   ]
  },
  {
   "cell_type": "markdown",
   "metadata": {},
   "source": [
    "## Conclusiones"
   ]
  },
  {
   "cell_type": "markdown",
   "metadata": {},
   "source": [
    "En mis conclusiones, el dataset que uso para los experimentos esta muy incompleto, por lo que me he dado cuenta que se requieren de muchisimos mas datos ademas de tener atributos aun mas significativos, aunque se que es dificil que encuentre eso, debido a que no hay estandares que dicten una correcta forma"
   ]
  }
 ],
 "metadata": {
  "kernelspec": {
   "display_name": "Python 3",
   "language": "python",
   "name": "python3"
  },
  "language_info": {
   "codemirror_mode": {
    "name": "ipython",
    "version": 3
   },
   "file_extension": ".py",
   "mimetype": "text/x-python",
   "name": "python",
   "nbconvert_exporter": "python",
   "pygments_lexer": "ipython3",
   "version": "3.6.7"
  }
 },
 "nbformat": 4,
 "nbformat_minor": 2
}
